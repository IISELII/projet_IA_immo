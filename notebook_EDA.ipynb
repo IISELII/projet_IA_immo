{
 "cells": [
  {
   "cell_type": "markdown",
   "id": "0d2fafe4",
   "metadata": {},
   "source": [
    "# Imports"
   ]
  },
  {
   "cell_type": "markdown",
   "id": "0c367042",
   "metadata": {},
   "source": [
    "## Import des librairies"
   ]
  },
  {
   "cell_type": "code",
   "execution_count": 498,
   "id": "e1887006",
   "metadata": {},
   "outputs": [],
   "source": [
    "import pandas as pd\n",
    "import numpy as np \n",
    "import seaborn as sns \n",
    "import matplotlib.pyplot as plt"
   ]
  },
  {
   "cell_type": "markdown",
   "id": "e46fe7df",
   "metadata": {},
   "source": [
    "## Import des données"
   ]
  },
  {
   "cell_type": "code",
   "execution_count": 499,
   "id": "5a631fab",
   "metadata": {},
   "outputs": [],
   "source": [
    "data = pd.read_csv(\"data/train_data.csv\")"
   ]
  },
  {
   "cell_type": "code",
   "execution_count": 500,
   "id": "fc31ffeb",
   "metadata": {},
   "outputs": [
    {
     "data": {
      "text/html": [
       "<div>\n",
       "<style scoped>\n",
       "    .dataframe tbody tr th:only-of-type {\n",
       "        vertical-align: middle;\n",
       "    }\n",
       "\n",
       "    .dataframe tbody tr th {\n",
       "        vertical-align: top;\n",
       "    }\n",
       "\n",
       "    .dataframe thead th {\n",
       "        text-align: right;\n",
       "    }\n",
       "</style>\n",
       "<table border=\"1\" class=\"dataframe\">\n",
       "  <thead>\n",
       "    <tr style=\"text-align: right;\">\n",
       "      <th></th>\n",
       "      <th>Unnamed: 0</th>\n",
       "      <th>longitude</th>\n",
       "      <th>latitude</th>\n",
       "      <th>housing_median_age</th>\n",
       "      <th>total_rooms</th>\n",
       "      <th>total_bedrooms</th>\n",
       "      <th>population</th>\n",
       "      <th>households</th>\n",
       "      <th>median_income</th>\n",
       "      <th>median_house_value</th>\n",
       "      <th>ocean_proximity</th>\n",
       "    </tr>\n",
       "  </thead>\n",
       "  <tbody>\n",
       "    <tr>\n",
       "      <th>0</th>\n",
       "      <td>2072</td>\n",
       "      <td>-119.84</td>\n",
       "      <td>36.77</td>\n",
       "      <td>6.0</td>\n",
       "      <td>1853.0</td>\n",
       "      <td>473.0</td>\n",
       "      <td>1397.0</td>\n",
       "      <td>417.0</td>\n",
       "      <td>1.4817</td>\n",
       "      <td>72000.0</td>\n",
       "      <td>INLAND</td>\n",
       "    </tr>\n",
       "    <tr>\n",
       "      <th>1</th>\n",
       "      <td>10600</td>\n",
       "      <td>-117.80</td>\n",
       "      <td>33.68</td>\n",
       "      <td>8.0</td>\n",
       "      <td>2032.0</td>\n",
       "      <td>349.0</td>\n",
       "      <td>862.0</td>\n",
       "      <td>340.0</td>\n",
       "      <td>6.9133</td>\n",
       "      <td>274100.0</td>\n",
       "      <td>&lt;1H OCEAN</td>\n",
       "    </tr>\n",
       "    <tr>\n",
       "      <th>2</th>\n",
       "      <td>2494</td>\n",
       "      <td>-120.19</td>\n",
       "      <td>36.60</td>\n",
       "      <td>25.0</td>\n",
       "      <td>875.0</td>\n",
       "      <td>214.0</td>\n",
       "      <td>931.0</td>\n",
       "      <td>214.0</td>\n",
       "      <td>1.5536</td>\n",
       "      <td>58300.0</td>\n",
       "      <td>INLAND</td>\n",
       "    </tr>\n",
       "    <tr>\n",
       "      <th>3</th>\n",
       "      <td>4284</td>\n",
       "      <td>-118.32</td>\n",
       "      <td>34.10</td>\n",
       "      <td>31.0</td>\n",
       "      <td>622.0</td>\n",
       "      <td>229.0</td>\n",
       "      <td>597.0</td>\n",
       "      <td>227.0</td>\n",
       "      <td>1.5284</td>\n",
       "      <td>200000.0</td>\n",
       "      <td>&lt;1H OCEAN</td>\n",
       "    </tr>\n",
       "    <tr>\n",
       "      <th>4</th>\n",
       "      <td>16541</td>\n",
       "      <td>-121.23</td>\n",
       "      <td>37.79</td>\n",
       "      <td>21.0</td>\n",
       "      <td>1922.0</td>\n",
       "      <td>373.0</td>\n",
       "      <td>1130.0</td>\n",
       "      <td>372.0</td>\n",
       "      <td>4.0815</td>\n",
       "      <td>117900.0</td>\n",
       "      <td>INLAND</td>\n",
       "    </tr>\n",
       "    <tr>\n",
       "      <th>...</th>\n",
       "      <td>...</td>\n",
       "      <td>...</td>\n",
       "      <td>...</td>\n",
       "      <td>...</td>\n",
       "      <td>...</td>\n",
       "      <td>...</td>\n",
       "      <td>...</td>\n",
       "      <td>...</td>\n",
       "      <td>...</td>\n",
       "      <td>...</td>\n",
       "      <td>...</td>\n",
       "    </tr>\n",
       "    <tr>\n",
       "      <th>16507</th>\n",
       "      <td>1099</td>\n",
       "      <td>-121.90</td>\n",
       "      <td>39.59</td>\n",
       "      <td>20.0</td>\n",
       "      <td>1465.0</td>\n",
       "      <td>278.0</td>\n",
       "      <td>745.0</td>\n",
       "      <td>250.0</td>\n",
       "      <td>3.0625</td>\n",
       "      <td>93800.0</td>\n",
       "      <td>INLAND</td>\n",
       "    </tr>\n",
       "    <tr>\n",
       "      <th>16508</th>\n",
       "      <td>18898</td>\n",
       "      <td>-122.25</td>\n",
       "      <td>38.11</td>\n",
       "      <td>49.0</td>\n",
       "      <td>2365.0</td>\n",
       "      <td>504.0</td>\n",
       "      <td>1131.0</td>\n",
       "      <td>458.0</td>\n",
       "      <td>2.6133</td>\n",
       "      <td>103100.0</td>\n",
       "      <td>NEAR BAY</td>\n",
       "    </tr>\n",
       "    <tr>\n",
       "      <th>16509</th>\n",
       "      <td>11798</td>\n",
       "      <td>-121.22</td>\n",
       "      <td>38.92</td>\n",
       "      <td>19.0</td>\n",
       "      <td>2531.0</td>\n",
       "      <td>461.0</td>\n",
       "      <td>1206.0</td>\n",
       "      <td>429.0</td>\n",
       "      <td>4.4958</td>\n",
       "      <td>192600.0</td>\n",
       "      <td>INLAND</td>\n",
       "    </tr>\n",
       "    <tr>\n",
       "      <th>16510</th>\n",
       "      <td>6637</td>\n",
       "      <td>-118.14</td>\n",
       "      <td>34.16</td>\n",
       "      <td>39.0</td>\n",
       "      <td>2776.0</td>\n",
       "      <td>840.0</td>\n",
       "      <td>2546.0</td>\n",
       "      <td>773.0</td>\n",
       "      <td>2.5750</td>\n",
       "      <td>153500.0</td>\n",
       "      <td>&lt;1H OCEAN</td>\n",
       "    </tr>\n",
       "    <tr>\n",
       "      <th>16511</th>\n",
       "      <td>2575</td>\n",
       "      <td>-124.13</td>\n",
       "      <td>40.80</td>\n",
       "      <td>31.0</td>\n",
       "      <td>2152.0</td>\n",
       "      <td>462.0</td>\n",
       "      <td>1259.0</td>\n",
       "      <td>420.0</td>\n",
       "      <td>2.2478</td>\n",
       "      <td>81100.0</td>\n",
       "      <td>NEAR OCEAN</td>\n",
       "    </tr>\n",
       "  </tbody>\n",
       "</table>\n",
       "<p>16512 rows × 11 columns</p>\n",
       "</div>"
      ],
      "text/plain": [
       "       Unnamed: 0  longitude  latitude  housing_median_age  total_rooms  \\\n",
       "0            2072    -119.84     36.77                 6.0       1853.0   \n",
       "1           10600    -117.80     33.68                 8.0       2032.0   \n",
       "2            2494    -120.19     36.60                25.0        875.0   \n",
       "3            4284    -118.32     34.10                31.0        622.0   \n",
       "4           16541    -121.23     37.79                21.0       1922.0   \n",
       "...           ...        ...       ...                 ...          ...   \n",
       "16507        1099    -121.90     39.59                20.0       1465.0   \n",
       "16508       18898    -122.25     38.11                49.0       2365.0   \n",
       "16509       11798    -121.22     38.92                19.0       2531.0   \n",
       "16510        6637    -118.14     34.16                39.0       2776.0   \n",
       "16511        2575    -124.13     40.80                31.0       2152.0   \n",
       "\n",
       "       total_bedrooms  population  households  median_income  \\\n",
       "0               473.0      1397.0       417.0         1.4817   \n",
       "1               349.0       862.0       340.0         6.9133   \n",
       "2               214.0       931.0       214.0         1.5536   \n",
       "3               229.0       597.0       227.0         1.5284   \n",
       "4               373.0      1130.0       372.0         4.0815   \n",
       "...               ...         ...         ...            ...   \n",
       "16507           278.0       745.0       250.0         3.0625   \n",
       "16508           504.0      1131.0       458.0         2.6133   \n",
       "16509           461.0      1206.0       429.0         4.4958   \n",
       "16510           840.0      2546.0       773.0         2.5750   \n",
       "16511           462.0      1259.0       420.0         2.2478   \n",
       "\n",
       "       median_house_value ocean_proximity  \n",
       "0                 72000.0          INLAND  \n",
       "1                274100.0       <1H OCEAN  \n",
       "2                 58300.0          INLAND  \n",
       "3                200000.0       <1H OCEAN  \n",
       "4                117900.0          INLAND  \n",
       "...                   ...             ...  \n",
       "16507             93800.0          INLAND  \n",
       "16508            103100.0        NEAR BAY  \n",
       "16509            192600.0          INLAND  \n",
       "16510            153500.0       <1H OCEAN  \n",
       "16511             81100.0      NEAR OCEAN  \n",
       "\n",
       "[16512 rows x 11 columns]"
      ]
     },
     "execution_count": 500,
     "metadata": {},
     "output_type": "execute_result"
    }
   ],
   "source": [
    "data"
   ]
  },
  {
   "cell_type": "markdown",
   "id": "b9ec1b49",
   "metadata": {},
   "source": [
    "# Cleaning "
   ]
  },
  {
   "cell_type": "markdown",
   "id": "d1dda4a6",
   "metadata": {},
   "source": [
    "step-by-step : \n",
    "\n",
    "- basics info (.info, .describe)\n",
    "- duplicates\n",
    "- unique values\n",
    "- missing values\n",
    "- knows the datatypes\n",
    "- outliers"
   ]
  },
  {
   "cell_type": "markdown",
   "id": "534ab8df",
   "metadata": {},
   "source": [
    "## Basics informations"
   ]
  },
  {
   "cell_type": "code",
   "execution_count": 501,
   "id": "848b3196",
   "metadata": {},
   "outputs": [
    {
     "name": "stdout",
     "output_type": "stream",
     "text": [
      "<class 'pandas.core.frame.DataFrame'>\n",
      "RangeIndex: 16512 entries, 0 to 16511\n",
      "Data columns (total 11 columns):\n",
      " #   Column              Non-Null Count  Dtype  \n",
      "---  ------              --------------  -----  \n",
      " 0   Unnamed: 0          16512 non-null  int64  \n",
      " 1   longitude           16512 non-null  float64\n",
      " 2   latitude            16512 non-null  float64\n",
      " 3   housing_median_age  16512 non-null  float64\n",
      " 4   total_rooms         16512 non-null  float64\n",
      " 5   total_bedrooms      16336 non-null  float64\n",
      " 6   population          16512 non-null  float64\n",
      " 7   households          16512 non-null  float64\n",
      " 8   median_income       16512 non-null  float64\n",
      " 9   median_house_value  16512 non-null  float64\n",
      " 10  ocean_proximity     16512 non-null  object \n",
      "dtypes: float64(9), int64(1), object(1)\n",
      "memory usage: 1.4+ MB\n"
     ]
    }
   ],
   "source": [
    "data.info()"
   ]
  },
  {
   "cell_type": "markdown",
   "id": "616ade0e",
   "metadata": {},
   "source": [
    "I can remake the columns index : "
   ]
  },
  {
   "cell_type": "code",
   "execution_count": 502,
   "id": "0a70d5ee",
   "metadata": {},
   "outputs": [],
   "source": [
    "data =data.rename(columns = {'Unnamed: 0': 'index'})"
   ]
  },
  {
   "cell_type": "code",
   "execution_count": 503,
   "id": "bce92e86",
   "metadata": {},
   "outputs": [
    {
     "data": {
      "text/html": [
       "<div>\n",
       "<style scoped>\n",
       "    .dataframe tbody tr th:only-of-type {\n",
       "        vertical-align: middle;\n",
       "    }\n",
       "\n",
       "    .dataframe tbody tr th {\n",
       "        vertical-align: top;\n",
       "    }\n",
       "\n",
       "    .dataframe thead th {\n",
       "        text-align: right;\n",
       "    }\n",
       "</style>\n",
       "<table border=\"1\" class=\"dataframe\">\n",
       "  <thead>\n",
       "    <tr style=\"text-align: right;\">\n",
       "      <th></th>\n",
       "      <th>index</th>\n",
       "      <th>longitude</th>\n",
       "      <th>latitude</th>\n",
       "      <th>housing_median_age</th>\n",
       "      <th>total_rooms</th>\n",
       "      <th>total_bedrooms</th>\n",
       "      <th>population</th>\n",
       "      <th>households</th>\n",
       "      <th>median_income</th>\n",
       "      <th>median_house_value</th>\n",
       "    </tr>\n",
       "  </thead>\n",
       "  <tbody>\n",
       "    <tr>\n",
       "      <th>count</th>\n",
       "      <td>16512.000000</td>\n",
       "      <td>16512.000000</td>\n",
       "      <td>16512.000000</td>\n",
       "      <td>16512.000000</td>\n",
       "      <td>16512.000000</td>\n",
       "      <td>16336.000000</td>\n",
       "      <td>16512.000000</td>\n",
       "      <td>16512.000000</td>\n",
       "      <td>16512.000000</td>\n",
       "      <td>16512.000000</td>\n",
       "    </tr>\n",
       "    <tr>\n",
       "      <th>mean</th>\n",
       "      <td>10295.498789</td>\n",
       "      <td>-119.564046</td>\n",
       "      <td>35.626523</td>\n",
       "      <td>28.624516</td>\n",
       "      <td>2644.170603</td>\n",
       "      <td>539.319540</td>\n",
       "      <td>1435.017260</td>\n",
       "      <td>501.135962</td>\n",
       "      <td>3.864091</td>\n",
       "      <td>206509.251453</td>\n",
       "    </tr>\n",
       "    <tr>\n",
       "      <th>std</th>\n",
       "      <td>5941.973488</td>\n",
       "      <td>2.005033</td>\n",
       "      <td>2.139150</td>\n",
       "      <td>12.597980</td>\n",
       "      <td>2213.946369</td>\n",
       "      <td>425.207704</td>\n",
       "      <td>1158.151967</td>\n",
       "      <td>385.650673</td>\n",
       "      <td>1.893244</td>\n",
       "      <td>115225.957661</td>\n",
       "    </tr>\n",
       "    <tr>\n",
       "      <th>min</th>\n",
       "      <td>0.000000</td>\n",
       "      <td>-124.350000</td>\n",
       "      <td>32.540000</td>\n",
       "      <td>1.000000</td>\n",
       "      <td>6.000000</td>\n",
       "      <td>2.000000</td>\n",
       "      <td>3.000000</td>\n",
       "      <td>2.000000</td>\n",
       "      <td>0.499900</td>\n",
       "      <td>14999.000000</td>\n",
       "    </tr>\n",
       "    <tr>\n",
       "      <th>25%</th>\n",
       "      <td>5178.750000</td>\n",
       "      <td>-121.790000</td>\n",
       "      <td>33.930000</td>\n",
       "      <td>18.000000</td>\n",
       "      <td>1446.000000</td>\n",
       "      <td>296.000000</td>\n",
       "      <td>788.000000</td>\n",
       "      <td>280.000000</td>\n",
       "      <td>2.562500</td>\n",
       "      <td>119400.000000</td>\n",
       "    </tr>\n",
       "    <tr>\n",
       "      <th>50%</th>\n",
       "      <td>10263.500000</td>\n",
       "      <td>-118.490000</td>\n",
       "      <td>34.250000</td>\n",
       "      <td>29.000000</td>\n",
       "      <td>2116.000000</td>\n",
       "      <td>435.000000</td>\n",
       "      <td>1168.000000</td>\n",
       "      <td>410.000000</td>\n",
       "      <td>3.531300</td>\n",
       "      <td>179300.000000</td>\n",
       "    </tr>\n",
       "    <tr>\n",
       "      <th>75%</th>\n",
       "      <td>15438.250000</td>\n",
       "      <td>-118.010000</td>\n",
       "      <td>37.710000</td>\n",
       "      <td>37.000000</td>\n",
       "      <td>3154.000000</td>\n",
       "      <td>647.000000</td>\n",
       "      <td>1738.000000</td>\n",
       "      <td>606.000000</td>\n",
       "      <td>4.733225</td>\n",
       "      <td>264500.000000</td>\n",
       "    </tr>\n",
       "    <tr>\n",
       "      <th>max</th>\n",
       "      <td>20639.000000</td>\n",
       "      <td>-114.310000</td>\n",
       "      <td>41.950000</td>\n",
       "      <td>52.000000</td>\n",
       "      <td>39320.000000</td>\n",
       "      <td>6445.000000</td>\n",
       "      <td>35682.000000</td>\n",
       "      <td>6082.000000</td>\n",
       "      <td>15.000100</td>\n",
       "      <td>500001.000000</td>\n",
       "    </tr>\n",
       "  </tbody>\n",
       "</table>\n",
       "</div>"
      ],
      "text/plain": [
       "              index     longitude      latitude  housing_median_age  \\\n",
       "count  16512.000000  16512.000000  16512.000000        16512.000000   \n",
       "mean   10295.498789   -119.564046     35.626523           28.624516   \n",
       "std     5941.973488      2.005033      2.139150           12.597980   \n",
       "min        0.000000   -124.350000     32.540000            1.000000   \n",
       "25%     5178.750000   -121.790000     33.930000           18.000000   \n",
       "50%    10263.500000   -118.490000     34.250000           29.000000   \n",
       "75%    15438.250000   -118.010000     37.710000           37.000000   \n",
       "max    20639.000000   -114.310000     41.950000           52.000000   \n",
       "\n",
       "        total_rooms  total_bedrooms    population    households  \\\n",
       "count  16512.000000    16336.000000  16512.000000  16512.000000   \n",
       "mean    2644.170603      539.319540   1435.017260    501.135962   \n",
       "std     2213.946369      425.207704   1158.151967    385.650673   \n",
       "min        6.000000        2.000000      3.000000      2.000000   \n",
       "25%     1446.000000      296.000000    788.000000    280.000000   \n",
       "50%     2116.000000      435.000000   1168.000000    410.000000   \n",
       "75%     3154.000000      647.000000   1738.000000    606.000000   \n",
       "max    39320.000000     6445.000000  35682.000000   6082.000000   \n",
       "\n",
       "       median_income  median_house_value  \n",
       "count   16512.000000        16512.000000  \n",
       "mean        3.864091       206509.251453  \n",
       "std         1.893244       115225.957661  \n",
       "min         0.499900        14999.000000  \n",
       "25%         2.562500       119400.000000  \n",
       "50%         3.531300       179300.000000  \n",
       "75%         4.733225       264500.000000  \n",
       "max        15.000100       500001.000000  "
      ]
     },
     "execution_count": 503,
     "metadata": {},
     "output_type": "execute_result"
    }
   ],
   "source": [
    "data.describe()"
   ]
  },
  {
   "cell_type": "markdown",
   "id": "60d429fd",
   "metadata": {},
   "source": [
    "## Duplicate values"
   ]
  },
  {
   "cell_type": "code",
   "execution_count": 504,
   "id": "9e0f980c",
   "metadata": {},
   "outputs": [
    {
     "data": {
      "text/plain": [
       "0"
      ]
     },
     "execution_count": 504,
     "metadata": {},
     "output_type": "execute_result"
    }
   ],
   "source": [
    "data.duplicated().sum()"
   ]
  },
  {
   "cell_type": "markdown",
   "id": "9a89798b",
   "metadata": {},
   "source": [
    "## Unique values in the data "
   ]
  },
  {
   "cell_type": "markdown",
   "id": "ae8c1be5",
   "metadata": {},
   "source": [
    "I have only 1 qualitative variable (\"ocean_proximity\"), it can be better for further analysis to transform these values by binaries values"
   ]
  },
  {
   "cell_type": "code",
   "execution_count": 505,
   "id": "99b96629",
   "metadata": {},
   "outputs": [
    {
     "data": {
      "text/plain": [
       "array(['INLAND', '<1H OCEAN', 'NEAR OCEAN', 'NEAR BAY', 'ISLAND'],\n",
       "      dtype=object)"
      ]
     },
     "execution_count": 505,
     "metadata": {},
     "output_type": "execute_result"
    }
   ],
   "source": [
    "data[\"ocean_proximity\"].unique()"
   ]
  },
  {
   "cell_type": "markdown",
   "id": "b752a651",
   "metadata": {},
   "source": [
    "I can do it with get dummies"
   ]
  },
  {
   "cell_type": "code",
   "execution_count": 506,
   "id": "3fadf033",
   "metadata": {},
   "outputs": [],
   "source": [
    "data_binaries = pd.get_dummies(data, columns=['ocean_proximity'], prefix=[\"\"])"
   ]
  },
  {
   "cell_type": "code",
   "execution_count": 507,
   "id": "bc2ab5b3",
   "metadata": {},
   "outputs": [
    {
     "data": {
      "text/html": [
       "<div>\n",
       "<style scoped>\n",
       "    .dataframe tbody tr th:only-of-type {\n",
       "        vertical-align: middle;\n",
       "    }\n",
       "\n",
       "    .dataframe tbody tr th {\n",
       "        vertical-align: top;\n",
       "    }\n",
       "\n",
       "    .dataframe thead th {\n",
       "        text-align: right;\n",
       "    }\n",
       "</style>\n",
       "<table border=\"1\" class=\"dataframe\">\n",
       "  <thead>\n",
       "    <tr style=\"text-align: right;\">\n",
       "      <th></th>\n",
       "      <th>index</th>\n",
       "      <th>longitude</th>\n",
       "      <th>latitude</th>\n",
       "      <th>housing_median_age</th>\n",
       "      <th>total_rooms</th>\n",
       "      <th>total_bedrooms</th>\n",
       "      <th>population</th>\n",
       "      <th>households</th>\n",
       "      <th>median_income</th>\n",
       "      <th>median_house_value</th>\n",
       "      <th>_&lt;1H OCEAN</th>\n",
       "      <th>_INLAND</th>\n",
       "      <th>_ISLAND</th>\n",
       "      <th>_NEAR BAY</th>\n",
       "      <th>_NEAR OCEAN</th>\n",
       "    </tr>\n",
       "  </thead>\n",
       "  <tbody>\n",
       "    <tr>\n",
       "      <th>0</th>\n",
       "      <td>2072</td>\n",
       "      <td>-119.84</td>\n",
       "      <td>36.77</td>\n",
       "      <td>6.0</td>\n",
       "      <td>1853.0</td>\n",
       "      <td>473.0</td>\n",
       "      <td>1397.0</td>\n",
       "      <td>417.0</td>\n",
       "      <td>1.4817</td>\n",
       "      <td>72000.0</td>\n",
       "      <td>0</td>\n",
       "      <td>1</td>\n",
       "      <td>0</td>\n",
       "      <td>0</td>\n",
       "      <td>0</td>\n",
       "    </tr>\n",
       "    <tr>\n",
       "      <th>1</th>\n",
       "      <td>10600</td>\n",
       "      <td>-117.80</td>\n",
       "      <td>33.68</td>\n",
       "      <td>8.0</td>\n",
       "      <td>2032.0</td>\n",
       "      <td>349.0</td>\n",
       "      <td>862.0</td>\n",
       "      <td>340.0</td>\n",
       "      <td>6.9133</td>\n",
       "      <td>274100.0</td>\n",
       "      <td>1</td>\n",
       "      <td>0</td>\n",
       "      <td>0</td>\n",
       "      <td>0</td>\n",
       "      <td>0</td>\n",
       "    </tr>\n",
       "    <tr>\n",
       "      <th>2</th>\n",
       "      <td>2494</td>\n",
       "      <td>-120.19</td>\n",
       "      <td>36.60</td>\n",
       "      <td>25.0</td>\n",
       "      <td>875.0</td>\n",
       "      <td>214.0</td>\n",
       "      <td>931.0</td>\n",
       "      <td>214.0</td>\n",
       "      <td>1.5536</td>\n",
       "      <td>58300.0</td>\n",
       "      <td>0</td>\n",
       "      <td>1</td>\n",
       "      <td>0</td>\n",
       "      <td>0</td>\n",
       "      <td>0</td>\n",
       "    </tr>\n",
       "    <tr>\n",
       "      <th>3</th>\n",
       "      <td>4284</td>\n",
       "      <td>-118.32</td>\n",
       "      <td>34.10</td>\n",
       "      <td>31.0</td>\n",
       "      <td>622.0</td>\n",
       "      <td>229.0</td>\n",
       "      <td>597.0</td>\n",
       "      <td>227.0</td>\n",
       "      <td>1.5284</td>\n",
       "      <td>200000.0</td>\n",
       "      <td>1</td>\n",
       "      <td>0</td>\n",
       "      <td>0</td>\n",
       "      <td>0</td>\n",
       "      <td>0</td>\n",
       "    </tr>\n",
       "    <tr>\n",
       "      <th>4</th>\n",
       "      <td>16541</td>\n",
       "      <td>-121.23</td>\n",
       "      <td>37.79</td>\n",
       "      <td>21.0</td>\n",
       "      <td>1922.0</td>\n",
       "      <td>373.0</td>\n",
       "      <td>1130.0</td>\n",
       "      <td>372.0</td>\n",
       "      <td>4.0815</td>\n",
       "      <td>117900.0</td>\n",
       "      <td>0</td>\n",
       "      <td>1</td>\n",
       "      <td>0</td>\n",
       "      <td>0</td>\n",
       "      <td>0</td>\n",
       "    </tr>\n",
       "    <tr>\n",
       "      <th>...</th>\n",
       "      <td>...</td>\n",
       "      <td>...</td>\n",
       "      <td>...</td>\n",
       "      <td>...</td>\n",
       "      <td>...</td>\n",
       "      <td>...</td>\n",
       "      <td>...</td>\n",
       "      <td>...</td>\n",
       "      <td>...</td>\n",
       "      <td>...</td>\n",
       "      <td>...</td>\n",
       "      <td>...</td>\n",
       "      <td>...</td>\n",
       "      <td>...</td>\n",
       "      <td>...</td>\n",
       "    </tr>\n",
       "    <tr>\n",
       "      <th>16507</th>\n",
       "      <td>1099</td>\n",
       "      <td>-121.90</td>\n",
       "      <td>39.59</td>\n",
       "      <td>20.0</td>\n",
       "      <td>1465.0</td>\n",
       "      <td>278.0</td>\n",
       "      <td>745.0</td>\n",
       "      <td>250.0</td>\n",
       "      <td>3.0625</td>\n",
       "      <td>93800.0</td>\n",
       "      <td>0</td>\n",
       "      <td>1</td>\n",
       "      <td>0</td>\n",
       "      <td>0</td>\n",
       "      <td>0</td>\n",
       "    </tr>\n",
       "    <tr>\n",
       "      <th>16508</th>\n",
       "      <td>18898</td>\n",
       "      <td>-122.25</td>\n",
       "      <td>38.11</td>\n",
       "      <td>49.0</td>\n",
       "      <td>2365.0</td>\n",
       "      <td>504.0</td>\n",
       "      <td>1131.0</td>\n",
       "      <td>458.0</td>\n",
       "      <td>2.6133</td>\n",
       "      <td>103100.0</td>\n",
       "      <td>0</td>\n",
       "      <td>0</td>\n",
       "      <td>0</td>\n",
       "      <td>1</td>\n",
       "      <td>0</td>\n",
       "    </tr>\n",
       "    <tr>\n",
       "      <th>16509</th>\n",
       "      <td>11798</td>\n",
       "      <td>-121.22</td>\n",
       "      <td>38.92</td>\n",
       "      <td>19.0</td>\n",
       "      <td>2531.0</td>\n",
       "      <td>461.0</td>\n",
       "      <td>1206.0</td>\n",
       "      <td>429.0</td>\n",
       "      <td>4.4958</td>\n",
       "      <td>192600.0</td>\n",
       "      <td>0</td>\n",
       "      <td>1</td>\n",
       "      <td>0</td>\n",
       "      <td>0</td>\n",
       "      <td>0</td>\n",
       "    </tr>\n",
       "    <tr>\n",
       "      <th>16510</th>\n",
       "      <td>6637</td>\n",
       "      <td>-118.14</td>\n",
       "      <td>34.16</td>\n",
       "      <td>39.0</td>\n",
       "      <td>2776.0</td>\n",
       "      <td>840.0</td>\n",
       "      <td>2546.0</td>\n",
       "      <td>773.0</td>\n",
       "      <td>2.5750</td>\n",
       "      <td>153500.0</td>\n",
       "      <td>1</td>\n",
       "      <td>0</td>\n",
       "      <td>0</td>\n",
       "      <td>0</td>\n",
       "      <td>0</td>\n",
       "    </tr>\n",
       "    <tr>\n",
       "      <th>16511</th>\n",
       "      <td>2575</td>\n",
       "      <td>-124.13</td>\n",
       "      <td>40.80</td>\n",
       "      <td>31.0</td>\n",
       "      <td>2152.0</td>\n",
       "      <td>462.0</td>\n",
       "      <td>1259.0</td>\n",
       "      <td>420.0</td>\n",
       "      <td>2.2478</td>\n",
       "      <td>81100.0</td>\n",
       "      <td>0</td>\n",
       "      <td>0</td>\n",
       "      <td>0</td>\n",
       "      <td>0</td>\n",
       "      <td>1</td>\n",
       "    </tr>\n",
       "  </tbody>\n",
       "</table>\n",
       "<p>16512 rows × 15 columns</p>\n",
       "</div>"
      ],
      "text/plain": [
       "       index  longitude  latitude  housing_median_age  total_rooms  \\\n",
       "0       2072    -119.84     36.77                 6.0       1853.0   \n",
       "1      10600    -117.80     33.68                 8.0       2032.0   \n",
       "2       2494    -120.19     36.60                25.0        875.0   \n",
       "3       4284    -118.32     34.10                31.0        622.0   \n",
       "4      16541    -121.23     37.79                21.0       1922.0   \n",
       "...      ...        ...       ...                 ...          ...   \n",
       "16507   1099    -121.90     39.59                20.0       1465.0   \n",
       "16508  18898    -122.25     38.11                49.0       2365.0   \n",
       "16509  11798    -121.22     38.92                19.0       2531.0   \n",
       "16510   6637    -118.14     34.16                39.0       2776.0   \n",
       "16511   2575    -124.13     40.80                31.0       2152.0   \n",
       "\n",
       "       total_bedrooms  population  households  median_income  \\\n",
       "0               473.0      1397.0       417.0         1.4817   \n",
       "1               349.0       862.0       340.0         6.9133   \n",
       "2               214.0       931.0       214.0         1.5536   \n",
       "3               229.0       597.0       227.0         1.5284   \n",
       "4               373.0      1130.0       372.0         4.0815   \n",
       "...               ...         ...         ...            ...   \n",
       "16507           278.0       745.0       250.0         3.0625   \n",
       "16508           504.0      1131.0       458.0         2.6133   \n",
       "16509           461.0      1206.0       429.0         4.4958   \n",
       "16510           840.0      2546.0       773.0         2.5750   \n",
       "16511           462.0      1259.0       420.0         2.2478   \n",
       "\n",
       "       median_house_value  _<1H OCEAN  _INLAND  _ISLAND  _NEAR BAY  \\\n",
       "0                 72000.0           0        1        0          0   \n",
       "1                274100.0           1        0        0          0   \n",
       "2                 58300.0           0        1        0          0   \n",
       "3                200000.0           1        0        0          0   \n",
       "4                117900.0           0        1        0          0   \n",
       "...                   ...         ...      ...      ...        ...   \n",
       "16507             93800.0           0        1        0          0   \n",
       "16508            103100.0           0        0        0          1   \n",
       "16509            192600.0           0        1        0          0   \n",
       "16510            153500.0           1        0        0          0   \n",
       "16511             81100.0           0        0        0          0   \n",
       "\n",
       "       _NEAR OCEAN  \n",
       "0                0  \n",
       "1                0  \n",
       "2                0  \n",
       "3                0  \n",
       "4                0  \n",
       "...            ...  \n",
       "16507            0  \n",
       "16508            0  \n",
       "16509            0  \n",
       "16510            0  \n",
       "16511            1  \n",
       "\n",
       "[16512 rows x 15 columns]"
      ]
     },
     "execution_count": 507,
     "metadata": {},
     "output_type": "execute_result"
    }
   ],
   "source": [
    "data_binaries"
   ]
  },
  {
   "cell_type": "markdown",
   "id": "bfff9953",
   "metadata": {},
   "source": [
    "## missing values"
   ]
  },
  {
   "cell_type": "code",
   "execution_count": 508,
   "id": "00f9a366",
   "metadata": {},
   "outputs": [
    {
     "data": {
      "text/plain": [
       "index                   0\n",
       "longitude               0\n",
       "latitude                0\n",
       "housing_median_age      0\n",
       "total_rooms             0\n",
       "total_bedrooms        176\n",
       "population              0\n",
       "households              0\n",
       "median_income           0\n",
       "median_house_value      0\n",
       "_<1H OCEAN              0\n",
       "_INLAND                 0\n",
       "_ISLAND                 0\n",
       "_NEAR BAY               0\n",
       "_NEAR OCEAN             0\n",
       "dtype: int64"
      ]
     },
     "execution_count": 508,
     "metadata": {},
     "output_type": "execute_result"
    }
   ],
   "source": [
    "data_binaries.isnull().sum()"
   ]
  },
  {
   "cell_type": "code",
   "execution_count": 509,
   "id": "2e098db4",
   "metadata": {},
   "outputs": [],
   "source": [
    "data_loc_nan = data_binaries.loc[data_binaries[\"total_bedrooms\"].isnull()]"
   ]
  },
  {
   "cell_type": "code",
   "execution_count": 510,
   "id": "3466e5cf",
   "metadata": {},
   "outputs": [
    {
     "data": {
      "text/html": [
       "<div>\n",
       "<style scoped>\n",
       "    .dataframe tbody tr th:only-of-type {\n",
       "        vertical-align: middle;\n",
       "    }\n",
       "\n",
       "    .dataframe tbody tr th {\n",
       "        vertical-align: top;\n",
       "    }\n",
       "\n",
       "    .dataframe thead th {\n",
       "        text-align: right;\n",
       "    }\n",
       "</style>\n",
       "<table border=\"1\" class=\"dataframe\">\n",
       "  <thead>\n",
       "    <tr style=\"text-align: right;\">\n",
       "      <th></th>\n",
       "      <th>index</th>\n",
       "      <th>longitude</th>\n",
       "      <th>latitude</th>\n",
       "      <th>housing_median_age</th>\n",
       "      <th>total_rooms</th>\n",
       "      <th>total_bedrooms</th>\n",
       "      <th>population</th>\n",
       "      <th>households</th>\n",
       "      <th>median_income</th>\n",
       "      <th>median_house_value</th>\n",
       "      <th>_&lt;1H OCEAN</th>\n",
       "      <th>_INLAND</th>\n",
       "      <th>_ISLAND</th>\n",
       "      <th>_NEAR BAY</th>\n",
       "      <th>_NEAR OCEAN</th>\n",
       "    </tr>\n",
       "  </thead>\n",
       "  <tbody>\n",
       "    <tr>\n",
       "      <th>33</th>\n",
       "      <td>5723</td>\n",
       "      <td>-118.23</td>\n",
       "      <td>34.18</td>\n",
       "      <td>45.0</td>\n",
       "      <td>2332.0</td>\n",
       "      <td>NaN</td>\n",
       "      <td>943.0</td>\n",
       "      <td>339.0</td>\n",
       "      <td>8.1132</td>\n",
       "      <td>446600.0</td>\n",
       "      <td>1</td>\n",
       "      <td>0</td>\n",
       "      <td>0</td>\n",
       "      <td>0</td>\n",
       "      <td>0</td>\n",
       "    </tr>\n",
       "    <tr>\n",
       "      <th>171</th>\n",
       "      <td>2578</td>\n",
       "      <td>-124.06</td>\n",
       "      <td>40.86</td>\n",
       "      <td>34.0</td>\n",
       "      <td>4183.0</td>\n",
       "      <td>NaN</td>\n",
       "      <td>1891.0</td>\n",
       "      <td>669.0</td>\n",
       "      <td>3.2216</td>\n",
       "      <td>98100.0</td>\n",
       "      <td>0</td>\n",
       "      <td>0</td>\n",
       "      <td>0</td>\n",
       "      <td>0</td>\n",
       "      <td>1</td>\n",
       "    </tr>\n",
       "    <tr>\n",
       "      <th>178</th>\n",
       "      <td>10033</td>\n",
       "      <td>-121.08</td>\n",
       "      <td>39.22</td>\n",
       "      <td>30.0</td>\n",
       "      <td>2188.0</td>\n",
       "      <td>NaN</td>\n",
       "      <td>1033.0</td>\n",
       "      <td>437.0</td>\n",
       "      <td>2.1419</td>\n",
       "      <td>105200.0</td>\n",
       "      <td>0</td>\n",
       "      <td>1</td>\n",
       "      <td>0</td>\n",
       "      <td>0</td>\n",
       "      <td>0</td>\n",
       "    </tr>\n",
       "    <tr>\n",
       "      <th>179</th>\n",
       "      <td>19485</td>\n",
       "      <td>-120.98</td>\n",
       "      <td>37.66</td>\n",
       "      <td>10.0</td>\n",
       "      <td>934.0</td>\n",
       "      <td>NaN</td>\n",
       "      <td>401.0</td>\n",
       "      <td>255.0</td>\n",
       "      <td>0.9336</td>\n",
       "      <td>127100.0</td>\n",
       "      <td>0</td>\n",
       "      <td>1</td>\n",
       "      <td>0</td>\n",
       "      <td>0</td>\n",
       "      <td>0</td>\n",
       "    </tr>\n",
       "    <tr>\n",
       "      <th>259</th>\n",
       "      <td>19766</td>\n",
       "      <td>-122.10</td>\n",
       "      <td>40.03</td>\n",
       "      <td>25.0</td>\n",
       "      <td>2516.0</td>\n",
       "      <td>NaN</td>\n",
       "      <td>1266.0</td>\n",
       "      <td>494.0</td>\n",
       "      <td>1.7566</td>\n",
       "      <td>58400.0</td>\n",
       "      <td>0</td>\n",
       "      <td>1</td>\n",
       "      <td>0</td>\n",
       "      <td>0</td>\n",
       "      <td>0</td>\n",
       "    </tr>\n",
       "    <tr>\n",
       "      <th>...</th>\n",
       "      <td>...</td>\n",
       "      <td>...</td>\n",
       "      <td>...</td>\n",
       "      <td>...</td>\n",
       "      <td>...</td>\n",
       "      <td>...</td>\n",
       "      <td>...</td>\n",
       "      <td>...</td>\n",
       "      <td>...</td>\n",
       "      <td>...</td>\n",
       "      <td>...</td>\n",
       "      <td>...</td>\n",
       "      <td>...</td>\n",
       "      <td>...</td>\n",
       "      <td>...</td>\n",
       "    </tr>\n",
       "    <tr>\n",
       "      <th>16002</th>\n",
       "      <td>17202</td>\n",
       "      <td>-119.73</td>\n",
       "      <td>34.44</td>\n",
       "      <td>38.0</td>\n",
       "      <td>1729.0</td>\n",
       "      <td>NaN</td>\n",
       "      <td>801.0</td>\n",
       "      <td>395.0</td>\n",
       "      <td>3.1364</td>\n",
       "      <td>357500.0</td>\n",
       "      <td>0</td>\n",
       "      <td>0</td>\n",
       "      <td>0</td>\n",
       "      <td>0</td>\n",
       "      <td>1</td>\n",
       "    </tr>\n",
       "    <tr>\n",
       "      <th>16089</th>\n",
       "      <td>17041</td>\n",
       "      <td>-122.28</td>\n",
       "      <td>37.51</td>\n",
       "      <td>33.0</td>\n",
       "      <td>4719.0</td>\n",
       "      <td>NaN</td>\n",
       "      <td>1980.0</td>\n",
       "      <td>757.0</td>\n",
       "      <td>6.1064</td>\n",
       "      <td>405000.0</td>\n",
       "      <td>0</td>\n",
       "      <td>0</td>\n",
       "      <td>0</td>\n",
       "      <td>0</td>\n",
       "      <td>1</td>\n",
       "    </tr>\n",
       "    <tr>\n",
       "      <th>16214</th>\n",
       "      <td>4591</td>\n",
       "      <td>-118.28</td>\n",
       "      <td>34.06</td>\n",
       "      <td>42.0</td>\n",
       "      <td>2472.0</td>\n",
       "      <td>NaN</td>\n",
       "      <td>3795.0</td>\n",
       "      <td>1179.0</td>\n",
       "      <td>1.2254</td>\n",
       "      <td>162500.0</td>\n",
       "      <td>1</td>\n",
       "      <td>0</td>\n",
       "      <td>0</td>\n",
       "      <td>0</td>\n",
       "      <td>0</td>\n",
       "    </tr>\n",
       "    <tr>\n",
       "      <th>16228</th>\n",
       "      <td>9942</td>\n",
       "      <td>-122.23</td>\n",
       "      <td>38.17</td>\n",
       "      <td>45.0</td>\n",
       "      <td>350.0</td>\n",
       "      <td>NaN</td>\n",
       "      <td>225.0</td>\n",
       "      <td>72.0</td>\n",
       "      <td>1.8942</td>\n",
       "      <td>216700.0</td>\n",
       "      <td>0</td>\n",
       "      <td>0</td>\n",
       "      <td>0</td>\n",
       "      <td>1</td>\n",
       "      <td>0</td>\n",
       "    </tr>\n",
       "    <tr>\n",
       "      <th>16323</th>\n",
       "      <td>2301</td>\n",
       "      <td>-119.78</td>\n",
       "      <td>36.82</td>\n",
       "      <td>25.0</td>\n",
       "      <td>5016.0</td>\n",
       "      <td>NaN</td>\n",
       "      <td>2133.0</td>\n",
       "      <td>928.0</td>\n",
       "      <td>3.6250</td>\n",
       "      <td>89500.0</td>\n",
       "      <td>0</td>\n",
       "      <td>1</td>\n",
       "      <td>0</td>\n",
       "      <td>0</td>\n",
       "      <td>0</td>\n",
       "    </tr>\n",
       "  </tbody>\n",
       "</table>\n",
       "<p>176 rows × 15 columns</p>\n",
       "</div>"
      ],
      "text/plain": [
       "       index  longitude  latitude  housing_median_age  total_rooms  \\\n",
       "33      5723    -118.23     34.18                45.0       2332.0   \n",
       "171     2578    -124.06     40.86                34.0       4183.0   \n",
       "178    10033    -121.08     39.22                30.0       2188.0   \n",
       "179    19485    -120.98     37.66                10.0        934.0   \n",
       "259    19766    -122.10     40.03                25.0       2516.0   \n",
       "...      ...        ...       ...                 ...          ...   \n",
       "16002  17202    -119.73     34.44                38.0       1729.0   \n",
       "16089  17041    -122.28     37.51                33.0       4719.0   \n",
       "16214   4591    -118.28     34.06                42.0       2472.0   \n",
       "16228   9942    -122.23     38.17                45.0        350.0   \n",
       "16323   2301    -119.78     36.82                25.0       5016.0   \n",
       "\n",
       "       total_bedrooms  population  households  median_income  \\\n",
       "33                NaN       943.0       339.0         8.1132   \n",
       "171               NaN      1891.0       669.0         3.2216   \n",
       "178               NaN      1033.0       437.0         2.1419   \n",
       "179               NaN       401.0       255.0         0.9336   \n",
       "259               NaN      1266.0       494.0         1.7566   \n",
       "...               ...         ...         ...            ...   \n",
       "16002             NaN       801.0       395.0         3.1364   \n",
       "16089             NaN      1980.0       757.0         6.1064   \n",
       "16214             NaN      3795.0      1179.0         1.2254   \n",
       "16228             NaN       225.0        72.0         1.8942   \n",
       "16323             NaN      2133.0       928.0         3.6250   \n",
       "\n",
       "       median_house_value  _<1H OCEAN  _INLAND  _ISLAND  _NEAR BAY  \\\n",
       "33               446600.0           1        0        0          0   \n",
       "171               98100.0           0        0        0          0   \n",
       "178              105200.0           0        1        0          0   \n",
       "179              127100.0           0        1        0          0   \n",
       "259               58400.0           0        1        0          0   \n",
       "...                   ...         ...      ...      ...        ...   \n",
       "16002            357500.0           0        0        0          0   \n",
       "16089            405000.0           0        0        0          0   \n",
       "16214            162500.0           1        0        0          0   \n",
       "16228            216700.0           0        0        0          1   \n",
       "16323             89500.0           0        1        0          0   \n",
       "\n",
       "       _NEAR OCEAN  \n",
       "33               0  \n",
       "171              1  \n",
       "178              0  \n",
       "179              0  \n",
       "259              0  \n",
       "...            ...  \n",
       "16002            1  \n",
       "16089            1  \n",
       "16214            0  \n",
       "16228            0  \n",
       "16323            0  \n",
       "\n",
       "[176 rows x 15 columns]"
      ]
     },
     "execution_count": 510,
     "metadata": {},
     "output_type": "execute_result"
    }
   ],
   "source": [
    "data_loc_nan"
   ]
  },
  {
   "cell_type": "code",
   "execution_count": 511,
   "id": "72af4819",
   "metadata": {
    "scrolled": true
   },
   "outputs": [
    {
     "data": {
      "text/html": [
       "<div>\n",
       "<style scoped>\n",
       "    .dataframe tbody tr th:only-of-type {\n",
       "        vertical-align: middle;\n",
       "    }\n",
       "\n",
       "    .dataframe tbody tr th {\n",
       "        vertical-align: top;\n",
       "    }\n",
       "\n",
       "    .dataframe thead th {\n",
       "        text-align: right;\n",
       "    }\n",
       "</style>\n",
       "<table border=\"1\" class=\"dataframe\">\n",
       "  <thead>\n",
       "    <tr style=\"text-align: right;\">\n",
       "      <th></th>\n",
       "      <th>longitude</th>\n",
       "      <th>latitude</th>\n",
       "    </tr>\n",
       "  </thead>\n",
       "  <tbody>\n",
       "    <tr>\n",
       "      <th>count</th>\n",
       "      <td>176.000000</td>\n",
       "      <td>176.000000</td>\n",
       "    </tr>\n",
       "    <tr>\n",
       "      <th>mean</th>\n",
       "      <td>-119.495909</td>\n",
       "      <td>35.514716</td>\n",
       "    </tr>\n",
       "    <tr>\n",
       "      <th>std</th>\n",
       "      <td>1.985183</td>\n",
       "      <td>2.063548</td>\n",
       "    </tr>\n",
       "    <tr>\n",
       "      <th>min</th>\n",
       "      <td>-124.130000</td>\n",
       "      <td>32.660000</td>\n",
       "    </tr>\n",
       "    <tr>\n",
       "      <th>25%</th>\n",
       "      <td>-121.857500</td>\n",
       "      <td>34.010000</td>\n",
       "    </tr>\n",
       "    <tr>\n",
       "      <th>50%</th>\n",
       "      <td>-118.495000</td>\n",
       "      <td>34.200000</td>\n",
       "    </tr>\n",
       "    <tr>\n",
       "      <th>75%</th>\n",
       "      <td>-118.050000</td>\n",
       "      <td>37.450000</td>\n",
       "    </tr>\n",
       "    <tr>\n",
       "      <th>max</th>\n",
       "      <td>-114.590000</td>\n",
       "      <td>40.920000</td>\n",
       "    </tr>\n",
       "  </tbody>\n",
       "</table>\n",
       "</div>"
      ],
      "text/plain": [
       "        longitude    latitude\n",
       "count  176.000000  176.000000\n",
       "mean  -119.495909   35.514716\n",
       "std      1.985183    2.063548\n",
       "min   -124.130000   32.660000\n",
       "25%   -121.857500   34.010000\n",
       "50%   -118.495000   34.200000\n",
       "75%   -118.050000   37.450000\n",
       "max   -114.590000   40.920000"
      ]
     },
     "execution_count": 511,
     "metadata": {},
     "output_type": "execute_result"
    }
   ],
   "source": [
    "data_loc_nan[[\"longitude\", \"latitude\"]].describe()"
   ]
  },
  {
   "cell_type": "markdown",
   "id": "f865ef80",
   "metadata": {},
   "source": [
    "with the mean and the std of \"longitude\" and \"latitude\" we can see that the NaN are in the same localisation "
   ]
  },
  {
   "cell_type": "markdown",
   "id": "0fa8979d",
   "metadata": {},
   "source": [
    "I will just drop them, they represent a low percentage of my data "
   ]
  },
  {
   "cell_type": "code",
   "execution_count": 512,
   "id": "54934e57",
   "metadata": {},
   "outputs": [],
   "source": [
    "data_no_nan = data_binaries.dropna()"
   ]
  },
  {
   "cell_type": "code",
   "execution_count": 513,
   "id": "8b66ed8c",
   "metadata": {},
   "outputs": [
    {
     "data": {
      "text/plain": [
       "index                 0\n",
       "longitude             0\n",
       "latitude              0\n",
       "housing_median_age    0\n",
       "total_rooms           0\n",
       "total_bedrooms        0\n",
       "population            0\n",
       "households            0\n",
       "median_income         0\n",
       "median_house_value    0\n",
       "_<1H OCEAN            0\n",
       "_INLAND               0\n",
       "_ISLAND               0\n",
       "_NEAR BAY             0\n",
       "_NEAR OCEAN           0\n",
       "dtype: int64"
      ]
     },
     "execution_count": 513,
     "metadata": {},
     "output_type": "execute_result"
    }
   ],
   "source": [
    "data_no_nan.isnull().sum()"
   ]
  },
  {
   "cell_type": "markdown",
   "id": "b32d2e5a",
   "metadata": {},
   "source": [
    "## the datatypes of my data"
   ]
  },
  {
   "cell_type": "code",
   "execution_count": 514,
   "id": "435d036b",
   "metadata": {},
   "outputs": [
    {
     "data": {
      "text/plain": [
       "index                   int64\n",
       "longitude             float64\n",
       "latitude              float64\n",
       "housing_median_age    float64\n",
       "total_rooms           float64\n",
       "total_bedrooms        float64\n",
       "population            float64\n",
       "households            float64\n",
       "median_income         float64\n",
       "median_house_value    float64\n",
       "_<1H OCEAN              uint8\n",
       "_INLAND                 uint8\n",
       "_ISLAND                 uint8\n",
       "_NEAR BAY               uint8\n",
       "_NEAR OCEAN             uint8\n",
       "dtype: object"
      ]
     },
     "execution_count": 514,
     "metadata": {},
     "output_type": "execute_result"
    }
   ],
   "source": [
    "data_no_nan.dtypes"
   ]
  },
  {
   "cell_type": "markdown",
   "id": "5bf7f521",
   "metadata": {},
   "source": [
    "I change the type of all my 'uint8' to 'int64'"
   ]
  },
  {
   "cell_type": "code",
   "execution_count": 515,
   "id": "d420928f",
   "metadata": {},
   "outputs": [],
   "source": [
    "data_good_type = data_no_nan.astype({\"_<1H OCEAN\": int, \"_INLAND\": int, \"_ISLAND\": int, \"_NEAR BAY\": int,\n",
    "                                    \"_NEAR OCEAN\": int})"
   ]
  },
  {
   "cell_type": "code",
   "execution_count": 516,
   "id": "f868e125",
   "metadata": {},
   "outputs": [
    {
     "data": {
      "text/plain": [
       "index                   int64\n",
       "longitude             float64\n",
       "latitude              float64\n",
       "housing_median_age    float64\n",
       "total_rooms           float64\n",
       "total_bedrooms        float64\n",
       "population            float64\n",
       "households            float64\n",
       "median_income         float64\n",
       "median_house_value    float64\n",
       "_<1H OCEAN              int64\n",
       "_INLAND                 int64\n",
       "_ISLAND                 int64\n",
       "_NEAR BAY               int64\n",
       "_NEAR OCEAN             int64\n",
       "dtype: object"
      ]
     },
     "execution_count": 516,
     "metadata": {},
     "output_type": "execute_result"
    }
   ],
   "source": [
    "data_good_type.dtypes"
   ]
  },
  {
   "cell_type": "markdown",
   "id": "252c6420",
   "metadata": {},
   "source": [
    "## Outliers"
   ]
  },
  {
   "cell_type": "code",
   "execution_count": 517,
   "id": "9c8d2790",
   "metadata": {},
   "outputs": [
    {
     "data": {
      "text/html": [
       "<div>\n",
       "<style scoped>\n",
       "    .dataframe tbody tr th:only-of-type {\n",
       "        vertical-align: middle;\n",
       "    }\n",
       "\n",
       "    .dataframe tbody tr th {\n",
       "        vertical-align: top;\n",
       "    }\n",
       "\n",
       "    .dataframe thead th {\n",
       "        text-align: right;\n",
       "    }\n",
       "</style>\n",
       "<table border=\"1\" class=\"dataframe\">\n",
       "  <thead>\n",
       "    <tr style=\"text-align: right;\">\n",
       "      <th></th>\n",
       "      <th>index</th>\n",
       "      <th>longitude</th>\n",
       "      <th>latitude</th>\n",
       "      <th>housing_median_age</th>\n",
       "      <th>total_rooms</th>\n",
       "      <th>total_bedrooms</th>\n",
       "      <th>population</th>\n",
       "      <th>households</th>\n",
       "      <th>median_income</th>\n",
       "      <th>median_house_value</th>\n",
       "      <th>_&lt;1H OCEAN</th>\n",
       "      <th>_INLAND</th>\n",
       "      <th>_ISLAND</th>\n",
       "      <th>_NEAR BAY</th>\n",
       "      <th>_NEAR OCEAN</th>\n",
       "    </tr>\n",
       "  </thead>\n",
       "  <tbody>\n",
       "    <tr>\n",
       "      <th>0</th>\n",
       "      <td>2072</td>\n",
       "      <td>-119.84</td>\n",
       "      <td>36.77</td>\n",
       "      <td>6.0</td>\n",
       "      <td>1853.0</td>\n",
       "      <td>473.0</td>\n",
       "      <td>1397.0</td>\n",
       "      <td>417.0</td>\n",
       "      <td>1.4817</td>\n",
       "      <td>72000.0</td>\n",
       "      <td>0</td>\n",
       "      <td>1</td>\n",
       "      <td>0</td>\n",
       "      <td>0</td>\n",
       "      <td>0</td>\n",
       "    </tr>\n",
       "    <tr>\n",
       "      <th>1</th>\n",
       "      <td>10600</td>\n",
       "      <td>-117.80</td>\n",
       "      <td>33.68</td>\n",
       "      <td>8.0</td>\n",
       "      <td>2032.0</td>\n",
       "      <td>349.0</td>\n",
       "      <td>862.0</td>\n",
       "      <td>340.0</td>\n",
       "      <td>6.9133</td>\n",
       "      <td>274100.0</td>\n",
       "      <td>1</td>\n",
       "      <td>0</td>\n",
       "      <td>0</td>\n",
       "      <td>0</td>\n",
       "      <td>0</td>\n",
       "    </tr>\n",
       "    <tr>\n",
       "      <th>2</th>\n",
       "      <td>2494</td>\n",
       "      <td>-120.19</td>\n",
       "      <td>36.60</td>\n",
       "      <td>25.0</td>\n",
       "      <td>875.0</td>\n",
       "      <td>214.0</td>\n",
       "      <td>931.0</td>\n",
       "      <td>214.0</td>\n",
       "      <td>1.5536</td>\n",
       "      <td>58300.0</td>\n",
       "      <td>0</td>\n",
       "      <td>1</td>\n",
       "      <td>0</td>\n",
       "      <td>0</td>\n",
       "      <td>0</td>\n",
       "    </tr>\n",
       "    <tr>\n",
       "      <th>3</th>\n",
       "      <td>4284</td>\n",
       "      <td>-118.32</td>\n",
       "      <td>34.10</td>\n",
       "      <td>31.0</td>\n",
       "      <td>622.0</td>\n",
       "      <td>229.0</td>\n",
       "      <td>597.0</td>\n",
       "      <td>227.0</td>\n",
       "      <td>1.5284</td>\n",
       "      <td>200000.0</td>\n",
       "      <td>1</td>\n",
       "      <td>0</td>\n",
       "      <td>0</td>\n",
       "      <td>0</td>\n",
       "      <td>0</td>\n",
       "    </tr>\n",
       "    <tr>\n",
       "      <th>4</th>\n",
       "      <td>16541</td>\n",
       "      <td>-121.23</td>\n",
       "      <td>37.79</td>\n",
       "      <td>21.0</td>\n",
       "      <td>1922.0</td>\n",
       "      <td>373.0</td>\n",
       "      <td>1130.0</td>\n",
       "      <td>372.0</td>\n",
       "      <td>4.0815</td>\n",
       "      <td>117900.0</td>\n",
       "      <td>0</td>\n",
       "      <td>1</td>\n",
       "      <td>0</td>\n",
       "      <td>0</td>\n",
       "      <td>0</td>\n",
       "    </tr>\n",
       "    <tr>\n",
       "      <th>...</th>\n",
       "      <td>...</td>\n",
       "      <td>...</td>\n",
       "      <td>...</td>\n",
       "      <td>...</td>\n",
       "      <td>...</td>\n",
       "      <td>...</td>\n",
       "      <td>...</td>\n",
       "      <td>...</td>\n",
       "      <td>...</td>\n",
       "      <td>...</td>\n",
       "      <td>...</td>\n",
       "      <td>...</td>\n",
       "      <td>...</td>\n",
       "      <td>...</td>\n",
       "      <td>...</td>\n",
       "    </tr>\n",
       "    <tr>\n",
       "      <th>16507</th>\n",
       "      <td>1099</td>\n",
       "      <td>-121.90</td>\n",
       "      <td>39.59</td>\n",
       "      <td>20.0</td>\n",
       "      <td>1465.0</td>\n",
       "      <td>278.0</td>\n",
       "      <td>745.0</td>\n",
       "      <td>250.0</td>\n",
       "      <td>3.0625</td>\n",
       "      <td>93800.0</td>\n",
       "      <td>0</td>\n",
       "      <td>1</td>\n",
       "      <td>0</td>\n",
       "      <td>0</td>\n",
       "      <td>0</td>\n",
       "    </tr>\n",
       "    <tr>\n",
       "      <th>16508</th>\n",
       "      <td>18898</td>\n",
       "      <td>-122.25</td>\n",
       "      <td>38.11</td>\n",
       "      <td>49.0</td>\n",
       "      <td>2365.0</td>\n",
       "      <td>504.0</td>\n",
       "      <td>1131.0</td>\n",
       "      <td>458.0</td>\n",
       "      <td>2.6133</td>\n",
       "      <td>103100.0</td>\n",
       "      <td>0</td>\n",
       "      <td>0</td>\n",
       "      <td>0</td>\n",
       "      <td>1</td>\n",
       "      <td>0</td>\n",
       "    </tr>\n",
       "    <tr>\n",
       "      <th>16509</th>\n",
       "      <td>11798</td>\n",
       "      <td>-121.22</td>\n",
       "      <td>38.92</td>\n",
       "      <td>19.0</td>\n",
       "      <td>2531.0</td>\n",
       "      <td>461.0</td>\n",
       "      <td>1206.0</td>\n",
       "      <td>429.0</td>\n",
       "      <td>4.4958</td>\n",
       "      <td>192600.0</td>\n",
       "      <td>0</td>\n",
       "      <td>1</td>\n",
       "      <td>0</td>\n",
       "      <td>0</td>\n",
       "      <td>0</td>\n",
       "    </tr>\n",
       "    <tr>\n",
       "      <th>16510</th>\n",
       "      <td>6637</td>\n",
       "      <td>-118.14</td>\n",
       "      <td>34.16</td>\n",
       "      <td>39.0</td>\n",
       "      <td>2776.0</td>\n",
       "      <td>840.0</td>\n",
       "      <td>2546.0</td>\n",
       "      <td>773.0</td>\n",
       "      <td>2.5750</td>\n",
       "      <td>153500.0</td>\n",
       "      <td>1</td>\n",
       "      <td>0</td>\n",
       "      <td>0</td>\n",
       "      <td>0</td>\n",
       "      <td>0</td>\n",
       "    </tr>\n",
       "    <tr>\n",
       "      <th>16511</th>\n",
       "      <td>2575</td>\n",
       "      <td>-124.13</td>\n",
       "      <td>40.80</td>\n",
       "      <td>31.0</td>\n",
       "      <td>2152.0</td>\n",
       "      <td>462.0</td>\n",
       "      <td>1259.0</td>\n",
       "      <td>420.0</td>\n",
       "      <td>2.2478</td>\n",
       "      <td>81100.0</td>\n",
       "      <td>0</td>\n",
       "      <td>0</td>\n",
       "      <td>0</td>\n",
       "      <td>0</td>\n",
       "      <td>1</td>\n",
       "    </tr>\n",
       "  </tbody>\n",
       "</table>\n",
       "<p>16336 rows × 15 columns</p>\n",
       "</div>"
      ],
      "text/plain": [
       "       index  longitude  latitude  housing_median_age  total_rooms  \\\n",
       "0       2072    -119.84     36.77                 6.0       1853.0   \n",
       "1      10600    -117.80     33.68                 8.0       2032.0   \n",
       "2       2494    -120.19     36.60                25.0        875.0   \n",
       "3       4284    -118.32     34.10                31.0        622.0   \n",
       "4      16541    -121.23     37.79                21.0       1922.0   \n",
       "...      ...        ...       ...                 ...          ...   \n",
       "16507   1099    -121.90     39.59                20.0       1465.0   \n",
       "16508  18898    -122.25     38.11                49.0       2365.0   \n",
       "16509  11798    -121.22     38.92                19.0       2531.0   \n",
       "16510   6637    -118.14     34.16                39.0       2776.0   \n",
       "16511   2575    -124.13     40.80                31.0       2152.0   \n",
       "\n",
       "       total_bedrooms  population  households  median_income  \\\n",
       "0               473.0      1397.0       417.0         1.4817   \n",
       "1               349.0       862.0       340.0         6.9133   \n",
       "2               214.0       931.0       214.0         1.5536   \n",
       "3               229.0       597.0       227.0         1.5284   \n",
       "4               373.0      1130.0       372.0         4.0815   \n",
       "...               ...         ...         ...            ...   \n",
       "16507           278.0       745.0       250.0         3.0625   \n",
       "16508           504.0      1131.0       458.0         2.6133   \n",
       "16509           461.0      1206.0       429.0         4.4958   \n",
       "16510           840.0      2546.0       773.0         2.5750   \n",
       "16511           462.0      1259.0       420.0         2.2478   \n",
       "\n",
       "       median_house_value  _<1H OCEAN  _INLAND  _ISLAND  _NEAR BAY  \\\n",
       "0                 72000.0           0        1        0          0   \n",
       "1                274100.0           1        0        0          0   \n",
       "2                 58300.0           0        1        0          0   \n",
       "3                200000.0           1        0        0          0   \n",
       "4                117900.0           0        1        0          0   \n",
       "...                   ...         ...      ...      ...        ...   \n",
       "16507             93800.0           0        1        0          0   \n",
       "16508            103100.0           0        0        0          1   \n",
       "16509            192600.0           0        1        0          0   \n",
       "16510            153500.0           1        0        0          0   \n",
       "16511             81100.0           0        0        0          0   \n",
       "\n",
       "       _NEAR OCEAN  \n",
       "0                0  \n",
       "1                0  \n",
       "2                0  \n",
       "3                0  \n",
       "4                0  \n",
       "...            ...  \n",
       "16507            0  \n",
       "16508            0  \n",
       "16509            0  \n",
       "16510            0  \n",
       "16511            1  \n",
       "\n",
       "[16336 rows x 15 columns]"
      ]
     },
     "execution_count": 517,
     "metadata": {},
     "output_type": "execute_result"
    }
   ],
   "source": [
    "data_good_type"
   ]
  },
  {
   "cell_type": "code",
   "execution_count": 518,
   "id": "df1da098",
   "metadata": {},
   "outputs": [
    {
     "data": {
      "text/plain": [
       "<AxesSubplot:xlabel='housing_median_age'>"
      ]
     },
     "execution_count": 518,
     "metadata": {},
     "output_type": "execute_result"
    },
    {
     "data": {
      "image/png": "[encoded data removed]",
      "text/plain": [
       "<Figure size 640x480 with 1 Axes>"
      ]
     },
     "metadata": {},
     "output_type": "display_data"
    }
   ],
   "source": [
    "sns.boxplot(x= data_good_type[\"housing_median_age\"])"
   ]
  },
  {
   "cell_type": "code",
   "execution_count": 519,
   "id": "6a02aa52",
   "metadata": {},
   "outputs": [
    {
     "data": {
      "text/plain": [
       "<AxesSubplot:xlabel='total_rooms'>"
      ]
     },
     "execution_count": 519,
     "metadata": {},
     "output_type": "execute_result"
    },
    {
     "data": {
      "image/png": "[encoded data removed]",
      "text/plain": [
       "<Figure size 640x480 with 1 Axes>"
      ]
     },
     "metadata": {},
     "output_type": "display_data"
    }
   ],
   "source": [
    "sns.boxplot(x = data_good_type[\"total_rooms\"])"
   ]
  },
  {
   "cell_type": "code",
   "execution_count": 520,
   "id": "b0ec9eb4",
   "metadata": {},
   "outputs": [
    {
     "data": {
      "text/plain": [
       "<AxesSubplot:xlabel='total_bedrooms'>"
      ]
     },
     "execution_count": 520,
     "metadata": {},
     "output_type": "execute_result"
    },
    {
     "data": {
      "image/png": "[encoded data removed]",
      "text/plain": [
       "<Figure size 640x480 with 1 Axes>"
      ]
     },
     "metadata": {},
     "output_type": "display_data"
    }
   ],
   "source": [
    "sns.boxplot(x = data_good_type[\"total_bedrooms\"])"
   ]
  },
  {
   "cell_type": "code",
   "execution_count": 521,
   "id": "40e425da",
   "metadata": {},
   "outputs": [
    {
     "data": {
      "text/plain": [
       "<AxesSubplot:xlabel='population'>"
      ]
     },
     "execution_count": 521,
     "metadata": {},
     "output_type": "execute_result"
    },
    {
     "data": {
      "image/png": "[encoded data removed]",
      "text/plain": [
       "<Figure size 640x480 with 1 Axes>"
      ]
     },
     "metadata": {},
     "output_type": "display_data"
    }
   ],
   "source": [
    "sns.boxplot(x = data_good_type[\"population\"])"
   ]
  },
  {
   "cell_type": "code",
   "execution_count": 522,
   "id": "329ffbb7",
   "metadata": {},
   "outputs": [
    {
     "data": {
      "text/plain": [
       "<AxesSubplot:xlabel='households'>"
      ]
     },
     "execution_count": 522,
     "metadata": {},
     "output_type": "execute_result"
    },
    {
     "data": {
      "image/png": "[encoded data removed]",
      "text/plain": [
       "<Figure size 640x480 with 1 Axes>"
      ]
     },
     "metadata": {},
     "output_type": "display_data"
    }
   ],
   "source": [
    "sns.boxplot(x = data_good_type[\"households\"])"
   ]
  },
  {
   "cell_type": "code",
   "execution_count": 523,
   "id": "65788821",
   "metadata": {},
   "outputs": [
    {
     "data": {
      "text/plain": [
       "<AxesSubplot:xlabel='median_income'>"
      ]
     },
     "execution_count": 523,
     "metadata": {},
     "output_type": "execute_result"
    },
    {
     "data": {
      "image/png": "[encoded data removed]",
      "text/plain": [
       "<Figure size 640x480 with 1 Axes>"
      ]
     },
     "metadata": {},
     "output_type": "display_data"
    }
   ],
   "source": [
    "sns.boxplot(x = data_good_type[\"median_income\"])"
   ]
  },
  {
   "cell_type": "code",
   "execution_count": 524,
   "id": "9088ff0c",
   "metadata": {},
   "outputs": [
    {
     "data": {
      "text/plain": [
       "<AxesSubplot:xlabel='median_house_value'>"
      ]
     },
     "execution_count": 524,
     "metadata": {},
     "output_type": "execute_result"
    },
    {
     "data": {
      "image/png": "[encoded data removed]",
      "text/plain": [
       "<Figure size 640x480 with 1 Axes>"
      ]
     },
     "metadata": {},
     "output_type": "display_data"
    }
   ],
   "source": [
    "sns.boxplot(x = data_good_type[\"median_house_value\"])"
   ]
  },
  {
   "cell_type": "markdown",
   "id": "69b01d15",
   "metadata": {},
   "source": [
    "My outliers can skew the prediction of my model, but what can I do with them :\n",
    "\n",
    "1) Imputing with median/mean.\n",
    "- f we were talking about 3 or 4 values then this can be a compromise, not so with so many values as this will be misinforming the machine learning algorithm.\n",
    "\n",
    "2) Dropping the records with outlying values.\n",
    "- Sometimes outliers do occur dues to measurement or recording errors and dropping such can work, not so with our data seeing that its most likely not as a result of error. Hence, dropping them doesn’t sound well for this case, also, I think this will lead to loss of information which might be important in the learnings of the machine.\n",
    "\n",
    "3)Normalization..\n",
    "\n",
    "- y understanding of normalization is that it scales values into a range say 0–1, what that essentially means is that the extreme values will still lie in the extremes of 0.9 whereas the other values doing the 0.000’s. And this doesn’t really address the outlier problem !\n",
    "\n",
    "\n",
    "And this is what brings us to the concept of winsorization.\n",
    "According to wikipedia, the term is defined as the transformation of statistics by limiting extreme values in the statistical data to reduce the effect of possibly spurious outliers, in other words we replace extreme values with less extreme values."
   ]
  },
  {
   "cell_type": "code",
   "execution_count": 525,
   "id": "053c1363",
   "metadata": {},
   "outputs": [],
   "source": [
    "from scipy.stats.mstats import winsorize"
   ]
  },
  {
   "cell_type": "markdown",
   "id": "370d3eda",
   "metadata": {},
   "source": [
    "Je vais le faire colonne par colonne pour m'adapter aux grandeurs de chaque colonne"
   ]
  },
  {
   "cell_type": "markdown",
   "id": "a2d63341",
   "metadata": {},
   "source": [
    "1) Je transforme mes colonnes en arrays"
   ]
  },
  {
   "cell_type": "code",
   "execution_count": 526,
   "id": "dab10914",
   "metadata": {},
   "outputs": [],
   "source": [
    "arr_housing_median_age = data_good_type[\"housing_median_age\"].to_numpy()\n",
    "arr_total_rooms = data_good_type[\"total_rooms\"].to_numpy()\n",
    "arr_total_bedrooms = data_good_type[\"total_bedrooms\"].to_numpy()\n",
    "arr_population = data_good_type[\"population\"].to_numpy()\n",
    "arr_households = data_good_type[\"households\"].to_numpy()\n",
    "arr_median_income = data_good_type[\"median_income\"].to_numpy()\n",
    "arr_median_house_value = data_good_type[\"median_house_value\"].to_numpy()"
   ]
  },
  {
   "cell_type": "markdown",
   "id": "95ac0261",
   "metadata": {},
   "source": [
    "2) J'applique le .winzorize à mes données "
   ]
  },
  {
   "cell_type": "code",
   "execution_count": 527,
   "id": "6f876c91",
   "metadata": {},
   "outputs": [],
   "source": [
    "arr_no_out_hma = winsorize(arr_housing_median_age, (0., 0.05))\n",
    "arr_no_out_tr = winsorize(arr_total_rooms, (0., 0.05))\n",
    "arr_no_out_tb = winsorize(arr_total_bedrooms, (0., 0.05))\n",
    "arr_no_out_p = winsorize(arr_population, (0., 0.05))\n",
    "arr_no_out_h = winsorize(arr_households, (0., 0.05))\n",
    "arr_no_out_mi = winsorize(arr_median_income, (0., 0.05))\n",
    "arr_no_out_mhv = winsorize(arr_median_house_value, (0., 0.05))"
   ]
  },
  {
   "cell_type": "markdown",
   "id": "0fce7807",
   "metadata": {},
   "source": [
    "je rentransforme mes arrays en dataframe"
   ]
  },
  {
   "cell_type": "code",
   "execution_count": 528,
   "id": "61c40333",
   "metadata": {},
   "outputs": [],
   "source": [
    "df_no_out_hma = pd.DataFrame(arr_no_out_hma, columns = [\"housing_median_age\"])\n",
    "df_no_out_tr = pd.DataFrame(arr_no_out_tr, columns = [\"total_rooms\"])\n",
    "df_no_out_tb = pd.DataFrame(arr_no_out_tb, columns = [\"total_bedrooms\"])\n",
    "df_no_out_p = pd.DataFrame(arr_no_out_p, columns = [\"population\"])\n",
    "df_no_out_h = pd.DataFrame(arr_no_out_h, columns = [\"households\"])\n",
    "df_no_out_mi = pd.DataFrame(arr_no_out_mi, columns = [\"median_income\"])\n",
    "df_no_out_mhv = pd.DataFrame(arr_no_out_mhv, columns = [\"median_house_value\"])"
   ]
  },
  {
   "cell_type": "markdown",
   "id": "490fc8f5",
   "metadata": {},
   "source": [
    "Je join mes dataframes en un seul"
   ]
  },
  {
   "cell_type": "code",
   "execution_count": 529,
   "id": "e15bf2d5",
   "metadata": {},
   "outputs": [],
   "source": [
    "df_gd_1 = data_good_type[[\"index\", \"longitude\", \"latitude\", \"_<1H OCEAN\", \"_INLAND\", \"_ISLAND\", \"_NEAR BAY\", \"_NEAR OCEAN\"]]\n",
    "df_no_out_0 = pd.concat([df_gd_1, df_no_out_hma], axis = 1)\n",
    "df_no_out_1 = pd.concat([df_no_out_0, df_no_out_tr], axis = 1)\n",
    "df_no_out_2 = pd.concat([df_no_out_1, df_no_out_tb], axis = 1)\n",
    "df_no_out_3 = pd.concat([df_no_out_2, df_no_out_p], axis = 1)\n",
    "df_no_out_4 = pd.concat([df_no_out_3, df_no_out_h], axis = 1)\n",
    "df_no_out_5 = pd.concat([df_no_out_4, df_no_out_mi], axis = 1)\n",
    "df_no_out = pd.concat([df_no_out_5, df_no_out_mhv], axis = 1)"
   ]
  },
  {
   "cell_type": "code",
   "execution_count": 530,
   "id": "06975955",
   "metadata": {},
   "outputs": [],
   "source": [
    "df_no_out = df_no_out.dropna()\n",
    "df_no_out = df_no_out.astype({\"index\": object, \"_<1H OCEAN\": int, \"_INLAND\": int, \"_ISLAND\": int, \"_NEAR BAY\": int,\n",
    "                              \"_NEAR OCEAN\": int})"
   ]
  },
  {
   "cell_type": "code",
   "execution_count": 531,
   "id": "48159e16",
   "metadata": {},
   "outputs": [
    {
     "data": {
      "text/plain": [
       "index                  object\n",
       "longitude             float64\n",
       "latitude              float64\n",
       "_<1H OCEAN              int64\n",
       "_INLAND                 int64\n",
       "_ISLAND                 int64\n",
       "_NEAR BAY               int64\n",
       "_NEAR OCEAN             int64\n",
       "housing_median_age    float64\n",
       "total_rooms           float64\n",
       "total_bedrooms        float64\n",
       "population            float64\n",
       "households            float64\n",
       "median_income         float64\n",
       "median_house_value    float64\n",
       "dtype: object"
      ]
     },
     "execution_count": 531,
     "metadata": {},
     "output_type": "execute_result"
    }
   ],
   "source": [
    "df_no_out.dtypes"
   ]
  },
  {
   "cell_type": "markdown",
   "id": "e749ec24",
   "metadata": {},
   "source": [
    "Je regarde les stats de mon dataframe"
   ]
  },
  {
   "cell_type": "code",
   "execution_count": 532,
   "id": "d2825ad0",
   "metadata": {},
   "outputs": [
    {
     "data": {
      "text/html": [
       "<div>\n",
       "<style scoped>\n",
       "    .dataframe tbody tr th:only-of-type {\n",
       "        vertical-align: middle;\n",
       "    }\n",
       "\n",
       "    .dataframe tbody tr th {\n",
       "        vertical-align: top;\n",
       "    }\n",
       "\n",
       "    .dataframe thead th {\n",
       "        text-align: right;\n",
       "    }\n",
       "</style>\n",
       "<table border=\"1\" class=\"dataframe\">\n",
       "  <thead>\n",
       "    <tr style=\"text-align: right;\">\n",
       "      <th></th>\n",
       "      <th>index</th>\n",
       "      <th>longitude</th>\n",
       "      <th>latitude</th>\n",
       "      <th>housing_median_age</th>\n",
       "      <th>total_rooms</th>\n",
       "      <th>total_bedrooms</th>\n",
       "      <th>population</th>\n",
       "      <th>households</th>\n",
       "      <th>median_income</th>\n",
       "      <th>median_house_value</th>\n",
       "      <th>_&lt;1H OCEAN</th>\n",
       "      <th>_INLAND</th>\n",
       "      <th>_ISLAND</th>\n",
       "      <th>_NEAR BAY</th>\n",
       "      <th>_NEAR OCEAN</th>\n",
       "    </tr>\n",
       "  </thead>\n",
       "  <tbody>\n",
       "    <tr>\n",
       "      <th>count</th>\n",
       "      <td>16336.000000</td>\n",
       "      <td>16336.000000</td>\n",
       "      <td>16336.000000</td>\n",
       "      <td>16336.000000</td>\n",
       "      <td>16336.000000</td>\n",
       "      <td>16336.000000</td>\n",
       "      <td>16336.000000</td>\n",
       "      <td>16336.000000</td>\n",
       "      <td>16336.000000</td>\n",
       "      <td>16336.000000</td>\n",
       "      <td>16336.000000</td>\n",
       "      <td>16336.000000</td>\n",
       "      <td>16336.000000</td>\n",
       "      <td>16336.000000</td>\n",
       "      <td>16336.000000</td>\n",
       "    </tr>\n",
       "    <tr>\n",
       "      <th>mean</th>\n",
       "      <td>10292.025343</td>\n",
       "      <td>-119.564780</td>\n",
       "      <td>35.627727</td>\n",
       "      <td>28.622551</td>\n",
       "      <td>2644.361349</td>\n",
       "      <td>539.319540</td>\n",
       "      <td>1434.176787</td>\n",
       "      <td>500.926604</td>\n",
       "      <td>3.863597</td>\n",
       "      <td>206442.492287</td>\n",
       "      <td>0.441969</td>\n",
       "      <td>0.317703</td>\n",
       "      <td>0.000245</td>\n",
       "      <td>0.110492</td>\n",
       "      <td>0.129591</td>\n",
       "    </tr>\n",
       "    <tr>\n",
       "      <th>std</th>\n",
       "      <td>5939.817307</td>\n",
       "      <td>2.005294</td>\n",
       "      <td>2.139979</td>\n",
       "      <td>12.607315</td>\n",
       "      <td>2217.697233</td>\n",
       "      <td>425.207704</td>\n",
       "      <td>1158.712057</td>\n",
       "      <td>385.466770</td>\n",
       "      <td>1.892362</td>\n",
       "      <td>115264.335238</td>\n",
       "      <td>0.496636</td>\n",
       "      <td>0.465598</td>\n",
       "      <td>0.015647</td>\n",
       "      <td>0.313512</td>\n",
       "      <td>0.335863</td>\n",
       "    </tr>\n",
       "    <tr>\n",
       "      <th>min</th>\n",
       "      <td>0.000000</td>\n",
       "      <td>-124.350000</td>\n",
       "      <td>32.540000</td>\n",
       "      <td>1.000000</td>\n",
       "      <td>6.000000</td>\n",
       "      <td>2.000000</td>\n",
       "      <td>3.000000</td>\n",
       "      <td>2.000000</td>\n",
       "      <td>0.499900</td>\n",
       "      <td>14999.000000</td>\n",
       "      <td>0.000000</td>\n",
       "      <td>0.000000</td>\n",
       "      <td>0.000000</td>\n",
       "      <td>0.000000</td>\n",
       "      <td>0.000000</td>\n",
       "    </tr>\n",
       "    <tr>\n",
       "      <th>25%</th>\n",
       "      <td>5180.750000</td>\n",
       "      <td>-121.790000</td>\n",
       "      <td>33.930000</td>\n",
       "      <td>18.000000</td>\n",
       "      <td>1447.000000</td>\n",
       "      <td>296.000000</td>\n",
       "      <td>788.000000</td>\n",
       "      <td>280.000000</td>\n",
       "      <td>2.562500</td>\n",
       "      <td>119375.000000</td>\n",
       "      <td>0.000000</td>\n",
       "      <td>0.000000</td>\n",
       "      <td>0.000000</td>\n",
       "      <td>0.000000</td>\n",
       "      <td>0.000000</td>\n",
       "    </tr>\n",
       "    <tr>\n",
       "      <th>50%</th>\n",
       "      <td>10265.500000</td>\n",
       "      <td>-118.490000</td>\n",
       "      <td>34.250000</td>\n",
       "      <td>29.000000</td>\n",
       "      <td>2115.000000</td>\n",
       "      <td>435.000000</td>\n",
       "      <td>1168.000000</td>\n",
       "      <td>410.000000</td>\n",
       "      <td>3.531300</td>\n",
       "      <td>179300.000000</td>\n",
       "      <td>0.000000</td>\n",
       "      <td>0.000000</td>\n",
       "      <td>0.000000</td>\n",
       "      <td>0.000000</td>\n",
       "      <td>0.000000</td>\n",
       "    </tr>\n",
       "    <tr>\n",
       "      <th>75%</th>\n",
       "      <td>15431.250000</td>\n",
       "      <td>-118.010000</td>\n",
       "      <td>37.720000</td>\n",
       "      <td>37.000000</td>\n",
       "      <td>3149.250000</td>\n",
       "      <td>647.000000</td>\n",
       "      <td>1733.000000</td>\n",
       "      <td>606.000000</td>\n",
       "      <td>4.733050</td>\n",
       "      <td>264325.000000</td>\n",
       "      <td>1.000000</td>\n",
       "      <td>1.000000</td>\n",
       "      <td>0.000000</td>\n",
       "      <td>0.000000</td>\n",
       "      <td>0.000000</td>\n",
       "    </tr>\n",
       "    <tr>\n",
       "      <th>max</th>\n",
       "      <td>20639.000000</td>\n",
       "      <td>-114.310000</td>\n",
       "      <td>41.950000</td>\n",
       "      <td>52.000000</td>\n",
       "      <td>39320.000000</td>\n",
       "      <td>6445.000000</td>\n",
       "      <td>35682.000000</td>\n",
       "      <td>6082.000000</td>\n",
       "      <td>15.000100</td>\n",
       "      <td>500001.000000</td>\n",
       "      <td>1.000000</td>\n",
       "      <td>1.000000</td>\n",
       "      <td>1.000000</td>\n",
       "      <td>1.000000</td>\n",
       "      <td>1.000000</td>\n",
       "    </tr>\n",
       "  </tbody>\n",
       "</table>\n",
       "</div>"
      ],
      "text/plain": [
       "              index     longitude      latitude  housing_median_age  \\\n",
       "count  16336.000000  16336.000000  16336.000000        16336.000000   \n",
       "mean   10292.025343   -119.564780     35.627727           28.622551   \n",
       "std     5939.817307      2.005294      2.139979           12.607315   \n",
       "min        0.000000   -124.350000     32.540000            1.000000   \n",
       "25%     5180.750000   -121.790000     33.930000           18.000000   \n",
       "50%    10265.500000   -118.490000     34.250000           29.000000   \n",
       "75%    15431.250000   -118.010000     37.720000           37.000000   \n",
       "max    20639.000000   -114.310000     41.950000           52.000000   \n",
       "\n",
       "        total_rooms  total_bedrooms    population    households  \\\n",
       "count  16336.000000    16336.000000  16336.000000  16336.000000   \n",
       "mean    2644.361349      539.319540   1434.176787    500.926604   \n",
       "std     2217.697233      425.207704   1158.712057    385.466770   \n",
       "min        6.000000        2.000000      3.000000      2.000000   \n",
       "25%     1447.000000      296.000000    788.000000    280.000000   \n",
       "50%     2115.000000      435.000000   1168.000000    410.000000   \n",
       "75%     3149.250000      647.000000   1733.000000    606.000000   \n",
       "max    39320.000000     6445.000000  35682.000000   6082.000000   \n",
       "\n",
       "       median_income  median_house_value    _<1H OCEAN       _INLAND  \\\n",
       "count   16336.000000        16336.000000  16336.000000  16336.000000   \n",
       "mean        3.863597       206442.492287      0.441969      0.317703   \n",
       "std         1.892362       115264.335238      0.496636      0.465598   \n",
       "min         0.499900        14999.000000      0.000000      0.000000   \n",
       "25%         2.562500       119375.000000      0.000000      0.000000   \n",
       "50%         3.531300       179300.000000      0.000000      0.000000   \n",
       "75%         4.733050       264325.000000      1.000000      1.000000   \n",
       "max        15.000100       500001.000000      1.000000      1.000000   \n",
       "\n",
       "            _ISLAND     _NEAR BAY   _NEAR OCEAN  \n",
       "count  16336.000000  16336.000000  16336.000000  \n",
       "mean       0.000245      0.110492      0.129591  \n",
       "std        0.015647      0.313512      0.335863  \n",
       "min        0.000000      0.000000      0.000000  \n",
       "25%        0.000000      0.000000      0.000000  \n",
       "50%        0.000000      0.000000      0.000000  \n",
       "75%        0.000000      0.000000      0.000000  \n",
       "max        1.000000      1.000000      1.000000  "
      ]
     },
     "execution_count": 532,
     "metadata": {},
     "output_type": "execute_result"
    }
   ],
   "source": [
    "data_good_type.describe()"
   ]
  },
  {
   "cell_type": "code",
   "execution_count": 533,
   "id": "f2818a3f",
   "metadata": {},
   "outputs": [
    {
     "data": {
      "text/html": [
       "<div>\n",
       "<style scoped>\n",
       "    .dataframe tbody tr th:only-of-type {\n",
       "        vertical-align: middle;\n",
       "    }\n",
       "\n",
       "    .dataframe tbody tr th {\n",
       "        vertical-align: top;\n",
       "    }\n",
       "\n",
       "    .dataframe thead th {\n",
       "        text-align: right;\n",
       "    }\n",
       "</style>\n",
       "<table border=\"1\" class=\"dataframe\">\n",
       "  <thead>\n",
       "    <tr style=\"text-align: right;\">\n",
       "      <th></th>\n",
       "      <th>longitude</th>\n",
       "      <th>latitude</th>\n",
       "      <th>_&lt;1H OCEAN</th>\n",
       "      <th>_INLAND</th>\n",
       "      <th>_ISLAND</th>\n",
       "      <th>_NEAR BAY</th>\n",
       "      <th>_NEAR OCEAN</th>\n",
       "      <th>housing_median_age</th>\n",
       "      <th>total_rooms</th>\n",
       "      <th>total_bedrooms</th>\n",
       "      <th>population</th>\n",
       "      <th>households</th>\n",
       "      <th>median_income</th>\n",
       "      <th>median_house_value</th>\n",
       "    </tr>\n",
       "  </thead>\n",
       "  <tbody>\n",
       "    <tr>\n",
       "      <th>count</th>\n",
       "      <td>16160.000000</td>\n",
       "      <td>16160.000000</td>\n",
       "      <td>16160.000000</td>\n",
       "      <td>16160.000000</td>\n",
       "      <td>16160.000000</td>\n",
       "      <td>16160.000000</td>\n",
       "      <td>16160.000000</td>\n",
       "      <td>16160.000000</td>\n",
       "      <td>16160.000000</td>\n",
       "      <td>16160.000000</td>\n",
       "      <td>16160.000000</td>\n",
       "      <td>16160.000000</td>\n",
       "      <td>16160.000000</td>\n",
       "      <td>16160.000000</td>\n",
       "    </tr>\n",
       "    <tr>\n",
       "      <th>mean</th>\n",
       "      <td>-119.566478</td>\n",
       "      <td>35.630071</td>\n",
       "      <td>0.441151</td>\n",
       "      <td>0.318502</td>\n",
       "      <td>0.000186</td>\n",
       "      <td>0.110396</td>\n",
       "      <td>0.129765</td>\n",
       "      <td>28.611015</td>\n",
       "      <td>2476.394802</td>\n",
       "      <td>509.289171</td>\n",
       "      <td>1352.346720</td>\n",
       "      <td>473.597092</td>\n",
       "      <td>3.764902</td>\n",
       "      <td>205728.489913</td>\n",
       "    </tr>\n",
       "    <tr>\n",
       "      <th>std</th>\n",
       "      <td>2.004760</td>\n",
       "      <td>2.139250</td>\n",
       "      <td>0.496540</td>\n",
       "      <td>0.465910</td>\n",
       "      <td>0.013624</td>\n",
       "      <td>0.313392</td>\n",
       "      <td>0.336055</td>\n",
       "      <td>12.606590</td>\n",
       "      <td>1484.735824</td>\n",
       "      <td>302.766285</td>\n",
       "      <td>794.280388</td>\n",
       "      <td>275.610996</td>\n",
       "      <td>1.584823</td>\n",
       "      <td>113554.028087</td>\n",
       "    </tr>\n",
       "    <tr>\n",
       "      <th>min</th>\n",
       "      <td>-124.350000</td>\n",
       "      <td>32.540000</td>\n",
       "      <td>0.000000</td>\n",
       "      <td>0.000000</td>\n",
       "      <td>0.000000</td>\n",
       "      <td>0.000000</td>\n",
       "      <td>0.000000</td>\n",
       "      <td>1.000000</td>\n",
       "      <td>6.000000</td>\n",
       "      <td>2.000000</td>\n",
       "      <td>3.000000</td>\n",
       "      <td>2.000000</td>\n",
       "      <td>0.499900</td>\n",
       "      <td>14999.000000</td>\n",
       "    </tr>\n",
       "    <tr>\n",
       "      <th>25%</th>\n",
       "      <td>-121.790000</td>\n",
       "      <td>33.930000</td>\n",
       "      <td>0.000000</td>\n",
       "      <td>0.000000</td>\n",
       "      <td>0.000000</td>\n",
       "      <td>0.000000</td>\n",
       "      <td>0.000000</td>\n",
       "      <td>18.000000</td>\n",
       "      <td>1448.000000</td>\n",
       "      <td>296.000000</td>\n",
       "      <td>788.000000</td>\n",
       "      <td>280.000000</td>\n",
       "      <td>2.559975</td>\n",
       "      <td>119300.000000</td>\n",
       "    </tr>\n",
       "    <tr>\n",
       "      <th>50%</th>\n",
       "      <td>-118.490000</td>\n",
       "      <td>34.250000</td>\n",
       "      <td>0.000000</td>\n",
       "      <td>0.000000</td>\n",
       "      <td>0.000000</td>\n",
       "      <td>0.000000</td>\n",
       "      <td>0.000000</td>\n",
       "      <td>29.000000</td>\n",
       "      <td>2115.000000</td>\n",
       "      <td>435.000000</td>\n",
       "      <td>1168.000000</td>\n",
       "      <td>409.000000</td>\n",
       "      <td>3.531750</td>\n",
       "      <td>179200.000000</td>\n",
       "    </tr>\n",
       "    <tr>\n",
       "      <th>75%</th>\n",
       "      <td>-118.010000</td>\n",
       "      <td>37.710000</td>\n",
       "      <td>1.000000</td>\n",
       "      <td>1.000000</td>\n",
       "      <td>0.000000</td>\n",
       "      <td>0.000000</td>\n",
       "      <td>0.000000</td>\n",
       "      <td>37.000000</td>\n",
       "      <td>3149.000000</td>\n",
       "      <td>647.000000</td>\n",
       "      <td>1734.250000</td>\n",
       "      <td>606.000000</td>\n",
       "      <td>4.733400</td>\n",
       "      <td>264400.000000</td>\n",
       "    </tr>\n",
       "    <tr>\n",
       "      <th>max</th>\n",
       "      <td>-114.310000</td>\n",
       "      <td>41.950000</td>\n",
       "      <td>1.000000</td>\n",
       "      <td>1.000000</td>\n",
       "      <td>1.000000</td>\n",
       "      <td>1.000000</td>\n",
       "      <td>1.000000</td>\n",
       "      <td>52.000000</td>\n",
       "      <td>6300.000000</td>\n",
       "      <td>1283.000000</td>\n",
       "      <td>3319.000000</td>\n",
       "      <td>1166.000000</td>\n",
       "      <td>7.277900</td>\n",
       "      <td>485400.000000</td>\n",
       "    </tr>\n",
       "  </tbody>\n",
       "</table>\n",
       "</div>"
      ],
      "text/plain": [
       "          longitude      latitude    _<1H OCEAN       _INLAND       _ISLAND  \\\n",
       "count  16160.000000  16160.000000  16160.000000  16160.000000  16160.000000   \n",
       "mean    -119.566478     35.630071      0.441151      0.318502      0.000186   \n",
       "std        2.004760      2.139250      0.496540      0.465910      0.013624   \n",
       "min     -124.350000     32.540000      0.000000      0.000000      0.000000   \n",
       "25%     -121.790000     33.930000      0.000000      0.000000      0.000000   \n",
       "50%     -118.490000     34.250000      0.000000      0.000000      0.000000   \n",
       "75%     -118.010000     37.710000      1.000000      1.000000      0.000000   \n",
       "max     -114.310000     41.950000      1.000000      1.000000      1.000000   \n",
       "\n",
       "          _NEAR BAY   _NEAR OCEAN  housing_median_age   total_rooms  \\\n",
       "count  16160.000000  16160.000000        16160.000000  16160.000000   \n",
       "mean       0.110396      0.129765           28.611015   2476.394802   \n",
       "std        0.313392      0.336055           12.606590   1484.735824   \n",
       "min        0.000000      0.000000            1.000000      6.000000   \n",
       "25%        0.000000      0.000000           18.000000   1448.000000   \n",
       "50%        0.000000      0.000000           29.000000   2115.000000   \n",
       "75%        0.000000      0.000000           37.000000   3149.000000   \n",
       "max        1.000000      1.000000           52.000000   6300.000000   \n",
       "\n",
       "       total_bedrooms    population    households  median_income  \\\n",
       "count    16160.000000  16160.000000  16160.000000   16160.000000   \n",
       "mean       509.289171   1352.346720    473.597092       3.764902   \n",
       "std        302.766285    794.280388    275.610996       1.584823   \n",
       "min          2.000000      3.000000      2.000000       0.499900   \n",
       "25%        296.000000    788.000000    280.000000       2.559975   \n",
       "50%        435.000000   1168.000000    409.000000       3.531750   \n",
       "75%        647.000000   1734.250000    606.000000       4.733400   \n",
       "max       1283.000000   3319.000000   1166.000000       7.277900   \n",
       "\n",
       "       median_house_value  \n",
       "count        16160.000000  \n",
       "mean        205728.489913  \n",
       "std         113554.028087  \n",
       "min          14999.000000  \n",
       "25%         119300.000000  \n",
       "50%         179200.000000  \n",
       "75%         264400.000000  \n",
       "max         485400.000000  "
      ]
     },
     "execution_count": 533,
     "metadata": {},
     "output_type": "execute_result"
    }
   ],
   "source": [
    "df_no_out.describe()"
   ]
  },
  {
   "cell_type": "markdown",
   "id": "41d4cb05",
   "metadata": {},
   "source": [
    "j'observe une nouvelle fois la dispersion de mes données:"
   ]
  },
  {
   "cell_type": "code",
   "execution_count": 534,
   "id": "e015af0b",
   "metadata": {},
   "outputs": [
    {
     "data": {
      "text/plain": [
       "<AxesSubplot:xlabel='latitude'>"
      ]
     },
     "execution_count": 534,
     "metadata": {},
     "output_type": "execute_result"
    },
    {
     "data": {
      "image/png": "[encoded data removed]",
      "text/plain": [
       "<Figure size 640x480 with 1 Axes>"
      ]
     },
     "metadata": {},
     "output_type": "display_data"
    }
   ],
   "source": [
    "sns.boxplot(x= df_no_out[\"latitude\"])"
   ]
  },
  {
   "cell_type": "code",
   "execution_count": 535,
   "id": "038744e6",
   "metadata": {},
   "outputs": [
    {
     "data": {
      "text/plain": [
       "<AxesSubplot:xlabel='longitude'>"
      ]
     },
     "execution_count": 535,
     "metadata": {},
     "output_type": "execute_result"
    },
    {
     "data": {
      "image/png": "[encoded data removed]",
      "text/plain": [
       "<Figure size 640x480 with 1 Axes>"
      ]
     },
     "metadata": {},
     "output_type": "display_data"
    }
   ],
   "source": [
    "sns.boxplot(x= df_no_out[\"longitude\"])"
   ]
  },
  {
   "cell_type": "code",
   "execution_count": 536,
   "id": "4c9b5ed1",
   "metadata": {},
   "outputs": [
    {
     "data": {
      "text/plain": [
       "<AxesSubplot:xlabel='housing_median_age'>"
      ]
     },
     "execution_count": 536,
     "metadata": {},
     "output_type": "execute_result"
    },
    {
     "data": {
      "image/png": "[encoded data removed]",
      "text/plain": [
       "<Figure size 640x480 with 1 Axes>"
      ]
     },
     "metadata": {},
     "output_type": "display_data"
    }
   ],
   "source": [
    "sns.boxplot(x= df_no_out[\"housing_median_age\"])"
   ]
  },
  {
   "cell_type": "code",
   "execution_count": 537,
   "id": "ced6767e",
   "metadata": {},
   "outputs": [
    {
     "data": {
      "text/plain": [
       "<AxesSubplot:xlabel='total_rooms'>"
      ]
     },
     "execution_count": 537,
     "metadata": {},
     "output_type": "execute_result"
    },
    {
     "data": {
      "image/png": "[encoded data removed]",
      "text/plain": [
       "<Figure size 640x480 with 1 Axes>"
      ]
     },
     "metadata": {},
     "output_type": "display_data"
    }
   ],
   "source": [
    "sns.boxplot(x = df_no_out[\"total_rooms\"])"
   ]
  },
  {
   "cell_type": "code",
   "execution_count": 538,
   "id": "b2d5568f",
   "metadata": {},
   "outputs": [
    {
     "data": {
      "text/plain": [
       "<AxesSubplot:xlabel='total_bedrooms'>"
      ]
     },
     "execution_count": 538,
     "metadata": {},
     "output_type": "execute_result"
    },
    {
     "data": {
      "image/png": "[encoded data removed]",
      "text/plain": [
       "<Figure size 640x480 with 1 Axes>"
      ]
     },
     "metadata": {},
     "output_type": "display_data"
    }
   ],
   "source": [
    "sns.boxplot(x = df_no_out[\"total_bedrooms\"])"
   ]
  },
  {
   "cell_type": "code",
   "execution_count": 539,
   "id": "eff040d3",
   "metadata": {},
   "outputs": [
    {
     "data": {
      "text/plain": [
       "<AxesSubplot:xlabel='population'>"
      ]
     },
     "execution_count": 539,
     "metadata": {},
     "output_type": "execute_result"
    },
    {
     "data": {
      "image/png": "[encoded data removed]",
      "text/plain": [
       "<Figure size 640x480 with 1 Axes>"
      ]
     },
     "metadata": {},
     "output_type": "display_data"
    }
   ],
   "source": [
    "sns.boxplot(x = df_no_out[\"population\"])"
   ]
  },
  {
   "cell_type": "code",
   "execution_count": 540,
   "id": "5d06b5de",
   "metadata": {},
   "outputs": [
    {
     "data": {
      "text/plain": [
       "<AxesSubplot:xlabel='households'>"
      ]
     },
     "execution_count": 540,
     "metadata": {},
     "output_type": "execute_result"
    },
    {
     "data": {
      "image/png": "[encoded data removed]",
      "text/plain": [
       "<Figure size 640x480 with 1 Axes>"
      ]
     },
     "metadata": {},
     "output_type": "display_data"
    }
   ],
   "source": [
    "sns.boxplot(x = df_no_out[\"households\"])"
   ]
  },
  {
   "cell_type": "code",
   "execution_count": 541,
   "id": "d86335ca",
   "metadata": {},
   "outputs": [
    {
     "data": {
      "text/plain": [
       "<AxesSubplot:xlabel='median_income'>"
      ]
     },
     "execution_count": 541,
     "metadata": {},
     "output_type": "execute_result"
    },
    {
     "data": {
      "image/png": "[encoded data removed]",
      "text/plain": [
       "<Figure size 640x480 with 1 Axes>"
      ]
     },
     "metadata": {},
     "output_type": "display_data"
    }
   ],
   "source": [
    "sns.boxplot(x = df_no_out[\"median_income\"])"
   ]
  },
  {
   "cell_type": "code",
   "execution_count": 542,
   "id": "6de6ff87",
   "metadata": {},
   "outputs": [
    {
     "data": {
      "text/plain": [
       "<AxesSubplot:xlabel='median_house_value'>"
      ]
     },
     "execution_count": 542,
     "metadata": {},
     "output_type": "execute_result"
    },
    {
     "data": {
      "image/png": "[encoded data removed]",
      "text/plain": [
       "<Figure size 640x480 with 1 Axes>"
      ]
     },
     "metadata": {},
     "output_type": "display_data"
    }
   ],
   "source": [
    "sns.boxplot(x = df_no_out[\"median_house_value\"])"
   ]
  },
  {
   "cell_type": "markdown",
   "id": "2d0d98a0",
   "metadata": {},
   "source": [
    "# Normalization "
   ]
  },
  {
   "cell_type": "code",
   "execution_count": 543,
   "id": "86a4f15c",
   "metadata": {},
   "outputs": [],
   "source": [
    "from sklearn.preprocessing import MinMaxScaler"
   ]
  },
  {
   "cell_type": "code",
   "execution_count": 544,
   "id": "d6c0f4bf",
   "metadata": {},
   "outputs": [],
   "source": [
    "arr_norm = MinMaxScaler().fit_transform(df_no_out)"
   ]
  },
  {
   "cell_type": "code",
   "execution_count": 545,
   "id": "32566940",
   "metadata": {},
   "outputs": [
    {
     "data": {
      "text/plain": [
       "Index(['index', 'longitude', 'latitude', '_<1H OCEAN', '_INLAND', '_ISLAND',\n",
       "       '_NEAR BAY', '_NEAR OCEAN', 'housing_median_age', 'total_rooms',\n",
       "       'total_bedrooms', 'population', 'households', 'median_income',\n",
       "       'median_house_value'],\n",
       "      dtype='object')"
      ]
     },
     "execution_count": 545,
     "metadata": {},
     "output_type": "execute_result"
    }
   ],
   "source": [
    "df_no_out.columns"
   ]
  },
  {
   "cell_type": "code",
   "execution_count": 546,
   "id": "afe0d741",
   "metadata": {},
   "outputs": [],
   "source": [
    "df_norm = pd.DataFrame(arr_norm,\n",
    "                       columns=[\n",
    "                           \"index\",\"longitude\", \"latitude\",\"_<1H OCEAN\", \"_INLAND\", \"_ISLAND\", \"_NEAR BAY\", \"_NEAR OCEAN\",\n",
    "                           \"housing_median_age\", \"total_rooms\", \"total_bedrooms\", \"population\", \"households\", \"median_income\",\n",
    "                           \"median_house_value\"\n",
    "                       ])"
   ]
  },
  {
   "cell_type": "code",
   "execution_count": 547,
   "id": "406d44f2",
   "metadata": {},
   "outputs": [
    {
     "data": {
      "text/html": [
       "<div>\n",
       "<style scoped>\n",
       "    .dataframe tbody tr th:only-of-type {\n",
       "        vertical-align: middle;\n",
       "    }\n",
       "\n",
       "    .dataframe tbody tr th {\n",
       "        vertical-align: top;\n",
       "    }\n",
       "\n",
       "    .dataframe thead th {\n",
       "        text-align: right;\n",
       "    }\n",
       "</style>\n",
       "<table border=\"1\" class=\"dataframe\">\n",
       "  <thead>\n",
       "    <tr style=\"text-align: right;\">\n",
       "      <th></th>\n",
       "      <th>index</th>\n",
       "      <th>longitude</th>\n",
       "      <th>latitude</th>\n",
       "      <th>_&lt;1H OCEAN</th>\n",
       "      <th>_INLAND</th>\n",
       "      <th>_ISLAND</th>\n",
       "      <th>_NEAR BAY</th>\n",
       "      <th>_NEAR OCEAN</th>\n",
       "      <th>housing_median_age</th>\n",
       "      <th>total_rooms</th>\n",
       "      <th>total_bedrooms</th>\n",
       "      <th>population</th>\n",
       "      <th>households</th>\n",
       "      <th>median_income</th>\n",
       "      <th>median_house_value</th>\n",
       "    </tr>\n",
       "  </thead>\n",
       "  <tbody>\n",
       "    <tr>\n",
       "      <th>0</th>\n",
       "      <td>0.100392</td>\n",
       "      <td>0.449203</td>\n",
       "      <td>0.449522</td>\n",
       "      <td>0.0</td>\n",
       "      <td>1.0</td>\n",
       "      <td>0.0</td>\n",
       "      <td>0.0</td>\n",
       "      <td>0.0</td>\n",
       "      <td>0.098039</td>\n",
       "      <td>0.293454</td>\n",
       "      <td>0.367681</td>\n",
       "      <td>0.420386</td>\n",
       "      <td>0.356529</td>\n",
       "      <td>0.144851</td>\n",
       "      <td>0.121175</td>\n",
       "    </tr>\n",
       "    <tr>\n",
       "      <th>1</th>\n",
       "      <td>0.513591</td>\n",
       "      <td>0.652390</td>\n",
       "      <td>0.121148</td>\n",
       "      <td>1.0</td>\n",
       "      <td>0.0</td>\n",
       "      <td>0.0</td>\n",
       "      <td>0.0</td>\n",
       "      <td>0.0</td>\n",
       "      <td>0.137255</td>\n",
       "      <td>0.321894</td>\n",
       "      <td>0.270882</td>\n",
       "      <td>0.259047</td>\n",
       "      <td>0.290378</td>\n",
       "      <td>0.946208</td>\n",
       "      <td>0.550809</td>\n",
       "    </tr>\n",
       "    <tr>\n",
       "      <th>2</th>\n",
       "      <td>0.120839</td>\n",
       "      <td>0.414343</td>\n",
       "      <td>0.431456</td>\n",
       "      <td>0.0</td>\n",
       "      <td>1.0</td>\n",
       "      <td>0.0</td>\n",
       "      <td>0.0</td>\n",
       "      <td>0.0</td>\n",
       "      <td>0.470588</td>\n",
       "      <td>0.138068</td>\n",
       "      <td>0.165496</td>\n",
       "      <td>0.279855</td>\n",
       "      <td>0.182131</td>\n",
       "      <td>0.155459</td>\n",
       "      <td>0.092051</td>\n",
       "    </tr>\n",
       "    <tr>\n",
       "      <th>3</th>\n",
       "      <td>0.207568</td>\n",
       "      <td>0.600598</td>\n",
       "      <td>0.165781</td>\n",
       "      <td>1.0</td>\n",
       "      <td>0.0</td>\n",
       "      <td>0.0</td>\n",
       "      <td>0.0</td>\n",
       "      <td>0.0</td>\n",
       "      <td>0.588235</td>\n",
       "      <td>0.097871</td>\n",
       "      <td>0.177205</td>\n",
       "      <td>0.179131</td>\n",
       "      <td>0.193299</td>\n",
       "      <td>0.151741</td>\n",
       "      <td>0.393284</td>\n",
       "    </tr>\n",
       "    <tr>\n",
       "      <th>4</th>\n",
       "      <td>0.801444</td>\n",
       "      <td>0.310757</td>\n",
       "      <td>0.557917</td>\n",
       "      <td>0.0</td>\n",
       "      <td>1.0</td>\n",
       "      <td>0.0</td>\n",
       "      <td>0.0</td>\n",
       "      <td>0.0</td>\n",
       "      <td>0.392157</td>\n",
       "      <td>0.304417</td>\n",
       "      <td>0.289617</td>\n",
       "      <td>0.339867</td>\n",
       "      <td>0.317869</td>\n",
       "      <td>0.528415</td>\n",
       "      <td>0.218752</td>\n",
       "    </tr>\n",
       "    <tr>\n",
       "      <th>...</th>\n",
       "      <td>...</td>\n",
       "      <td>...</td>\n",
       "      <td>...</td>\n",
       "      <td>...</td>\n",
       "      <td>...</td>\n",
       "      <td>...</td>\n",
       "      <td>...</td>\n",
       "      <td>...</td>\n",
       "      <td>...</td>\n",
       "      <td>...</td>\n",
       "      <td>...</td>\n",
       "      <td>...</td>\n",
       "      <td>...</td>\n",
       "      <td>...</td>\n",
       "      <td>...</td>\n",
       "    </tr>\n",
       "    <tr>\n",
       "      <th>16155</th>\n",
       "      <td>0.673240</td>\n",
       "      <td>0.799801</td>\n",
       "      <td>0.170032</td>\n",
       "      <td>0.0</td>\n",
       "      <td>1.0</td>\n",
       "      <td>0.0</td>\n",
       "      <td>0.0</td>\n",
       "      <td>0.0</td>\n",
       "      <td>0.372549</td>\n",
       "      <td>0.231808</td>\n",
       "      <td>0.215457</td>\n",
       "      <td>0.223764</td>\n",
       "      <td>0.213058</td>\n",
       "      <td>0.378076</td>\n",
       "      <td>0.167519</td>\n",
       "    </tr>\n",
       "    <tr>\n",
       "      <th>16156</th>\n",
       "      <td>0.960027</td>\n",
       "      <td>0.507968</td>\n",
       "      <td>0.427205</td>\n",
       "      <td>0.0</td>\n",
       "      <td>1.0</td>\n",
       "      <td>0.0</td>\n",
       "      <td>0.0</td>\n",
       "      <td>0.0</td>\n",
       "      <td>0.941176</td>\n",
       "      <td>0.374801</td>\n",
       "      <td>0.391881</td>\n",
       "      <td>0.340169</td>\n",
       "      <td>0.391753</td>\n",
       "      <td>0.311803</td>\n",
       "      <td>0.187289</td>\n",
       "    </tr>\n",
       "    <tr>\n",
       "      <th>16157</th>\n",
       "      <td>0.828965</td>\n",
       "      <td>0.213147</td>\n",
       "      <td>0.522848</td>\n",
       "      <td>0.0</td>\n",
       "      <td>0.0</td>\n",
       "      <td>0.0</td>\n",
       "      <td>0.0</td>\n",
       "      <td>1.0</td>\n",
       "      <td>0.352941</td>\n",
       "      <td>0.401176</td>\n",
       "      <td>0.358314</td>\n",
       "      <td>0.362786</td>\n",
       "      <td>0.366838</td>\n",
       "      <td>0.589540</td>\n",
       "      <td>0.377552</td>\n",
       "    </tr>\n",
       "    <tr>\n",
       "      <th>16158</th>\n",
       "      <td>0.875188</td>\n",
       "      <td>0.233068</td>\n",
       "      <td>0.501594</td>\n",
       "      <td>1.0</td>\n",
       "      <td>0.0</td>\n",
       "      <td>0.0</td>\n",
       "      <td>0.0</td>\n",
       "      <td>0.0</td>\n",
       "      <td>0.745098</td>\n",
       "      <td>0.440102</td>\n",
       "      <td>0.654176</td>\n",
       "      <td>0.766888</td>\n",
       "      <td>0.662371</td>\n",
       "      <td>0.306152</td>\n",
       "      <td>0.294432</td>\n",
       "    </tr>\n",
       "    <tr>\n",
       "      <th>16159</th>\n",
       "      <td>0.503561</td>\n",
       "      <td>0.667331</td>\n",
       "      <td>0.111583</td>\n",
       "      <td>1.0</td>\n",
       "      <td>0.0</td>\n",
       "      <td>0.0</td>\n",
       "      <td>0.0</td>\n",
       "      <td>0.0</td>\n",
       "      <td>0.588235</td>\n",
       "      <td>0.340960</td>\n",
       "      <td>0.359094</td>\n",
       "      <td>0.378770</td>\n",
       "      <td>0.359107</td>\n",
       "      <td>0.257878</td>\n",
       "      <td>0.140521</td>\n",
       "    </tr>\n",
       "  </tbody>\n",
       "</table>\n",
       "<p>16160 rows × 15 columns</p>\n",
       "</div>"
      ],
      "text/plain": [
       "          index  longitude  latitude  _<1H OCEAN  _INLAND  _ISLAND  _NEAR BAY  \\\n",
       "0      0.100392   0.449203  0.449522         0.0      1.0      0.0        0.0   \n",
       "1      0.513591   0.652390  0.121148         1.0      0.0      0.0        0.0   \n",
       "2      0.120839   0.414343  0.431456         0.0      1.0      0.0        0.0   \n",
       "3      0.207568   0.600598  0.165781         1.0      0.0      0.0        0.0   \n",
       "4      0.801444   0.310757  0.557917         0.0      1.0      0.0        0.0   \n",
       "...         ...        ...       ...         ...      ...      ...        ...   \n",
       "16155  0.673240   0.799801  0.170032         0.0      1.0      0.0        0.0   \n",
       "16156  0.960027   0.507968  0.427205         0.0      1.0      0.0        0.0   \n",
       "16157  0.828965   0.213147  0.522848         0.0      0.0      0.0        0.0   \n",
       "16158  0.875188   0.233068  0.501594         1.0      0.0      0.0        0.0   \n",
       "16159  0.503561   0.667331  0.111583         1.0      0.0      0.0        0.0   \n",
       "\n",
       "       _NEAR OCEAN  housing_median_age  total_rooms  total_bedrooms  \\\n",
       "0              0.0            0.098039     0.293454        0.367681   \n",
       "1              0.0            0.137255     0.321894        0.270882   \n",
       "2              0.0            0.470588     0.138068        0.165496   \n",
       "3              0.0            0.588235     0.097871        0.177205   \n",
       "4              0.0            0.392157     0.304417        0.289617   \n",
       "...            ...                 ...          ...             ...   \n",
       "16155          0.0            0.372549     0.231808        0.215457   \n",
       "16156          0.0            0.941176     0.374801        0.391881   \n",
       "16157          1.0            0.352941     0.401176        0.358314   \n",
       "16158          0.0            0.745098     0.440102        0.654176   \n",
       "16159          0.0            0.588235     0.340960        0.359094   \n",
       "\n",
       "       population  households  median_income  median_house_value  \n",
       "0        0.420386    0.356529       0.144851            0.121175  \n",
       "1        0.259047    0.290378       0.946208            0.550809  \n",
       "2        0.279855    0.182131       0.155459            0.092051  \n",
       "3        0.179131    0.193299       0.151741            0.393284  \n",
       "4        0.339867    0.317869       0.528415            0.218752  \n",
       "...           ...         ...            ...                 ...  \n",
       "16155    0.223764    0.213058       0.378076            0.167519  \n",
       "16156    0.340169    0.391753       0.311803            0.187289  \n",
       "16157    0.362786    0.366838       0.589540            0.377552  \n",
       "16158    0.766888    0.662371       0.306152            0.294432  \n",
       "16159    0.378770    0.359107       0.257878            0.140521  \n",
       "\n",
       "[16160 rows x 15 columns]"
      ]
     },
     "execution_count": 547,
     "metadata": {},
     "output_type": "execute_result"
    }
   ],
   "source": [
    "df_norm"
   ]
  },
  {
   "cell_type": "markdown",
   "id": "7c71ce7e",
   "metadata": {},
   "source": [
    "# Standardization"
   ]
  },
  {
   "cell_type": "code",
   "execution_count": 548,
   "id": "e0f1b67d",
   "metadata": {},
   "outputs": [],
   "source": [
    "from sklearn.preprocessing import StandardScaler"
   ]
  },
  {
   "cell_type": "code",
   "execution_count": 549,
   "id": "79012f0c",
   "metadata": {},
   "outputs": [],
   "source": [
    "arr_standard = StandardScaler().fit_transform(df_no_out)"
   ]
  },
  {
   "cell_type": "code",
   "execution_count": 550,
   "id": "e33d04dd",
   "metadata": {},
   "outputs": [],
   "source": [
    "df_standard = pd.DataFrame(arr_standard,\n",
    "                       columns=[\n",
    "                           \"index\",\"longitude\", \"latitude\",\"_<1H OCEAN\", \"_INLAND\", \"_ISLAND\", \"_NEAR BAY\", \"_NEAR OCEAN\",\n",
    "                           \"housing_median_age\", \"total_rooms\", \"total_bedrooms\", \"population\", \"households\", \"median_income\",\n",
    "                           \"median_house_value\"\n",
    "                       ])"
   ]
  },
  {
   "cell_type": "code",
   "execution_count": 551,
   "id": "dc52dd7b",
   "metadata": {},
   "outputs": [],
   "source": [
    "df_export = df_no_out.to_csv(r'data/data_clean.csv', index=False)"
   ]
  }
 ],
 "metadata": {
  "kernelspec": {
   "display_name": "Python 3 (ipykernel)",
   "language": "python",
   "name": "python3"
  },
  "language_info": {
   "codemirror_mode": {
    "name": "ipython",
    "version": 3
   },
   "file_extension": ".py",
   "mimetype": "text/x-python",
   "name": "python",
   "nbconvert_exporter": "python",
   "pygments_lexer": "ipython3",
   "version": "3.8.12"
  },
  "toc": {
   "base_numbering": 1,
   "nav_menu": {},
   "number_sections": true,
   "sideBar": true,
   "skip_h1_title": false,
   "title_cell": "Table of Contents",
   "title_sidebar": "Contents",
   "toc_cell": false,
   "toc_position": {},
   "toc_section_display": true,
   "toc_window_display": false
  }
 },
 "nbformat": 4,
 "nbformat_minor": 5
}
