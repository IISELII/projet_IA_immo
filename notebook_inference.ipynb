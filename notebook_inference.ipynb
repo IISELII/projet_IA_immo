{
 "cells": [
  {
   "cell_type": "markdown",
   "id": "4de1da8d",
   "metadata": {},
   "source": [
    "# Imports"
   ]
  },
  {
   "cell_type": "code",
   "execution_count": 83,
   "id": "4eb5a26e",
   "metadata": {},
   "outputs": [],
   "source": [
    "import pandas as pd \n",
    "import numpy as np \n",
    "import seaborn as sns\n",
    "import matplotlib.pyplot as plt "
   ]
  },
  {
   "cell_type": "code",
   "execution_count": 84,
   "id": "38698eff",
   "metadata": {},
   "outputs": [],
   "source": [
    "df_clean = pd.read_csv(\"data/data_clean.csv\")"
   ]
  },
  {
   "cell_type": "code",
   "execution_count": 85,
   "id": "de473102",
   "metadata": {},
   "outputs": [],
   "source": [
    "np.random.seed(123)"
   ]
  },
  {
   "cell_type": "code",
   "execution_count": 86,
   "id": "fa9aa8ba",
   "metadata": {},
   "outputs": [
    {
     "data": {
      "text/html": [
       "<div>\n",
       "<style scoped>\n",
       "    .dataframe tbody tr th:only-of-type {\n",
       "        vertical-align: middle;\n",
       "    }\n",
       "\n",
       "    .dataframe tbody tr th {\n",
       "        vertical-align: top;\n",
       "    }\n",
       "\n",
       "    .dataframe thead th {\n",
       "        text-align: right;\n",
       "    }\n",
       "</style>\n",
       "<table border=\"1\" class=\"dataframe\">\n",
       "  <thead>\n",
       "    <tr style=\"text-align: right;\">\n",
       "      <th></th>\n",
       "      <th>index</th>\n",
       "      <th>longitude</th>\n",
       "      <th>latitude</th>\n",
       "      <th>_&lt;1H OCEAN</th>\n",
       "      <th>_INLAND</th>\n",
       "      <th>_ISLAND</th>\n",
       "      <th>_NEAR BAY</th>\n",
       "      <th>_NEAR OCEAN</th>\n",
       "      <th>housing_median_age</th>\n",
       "      <th>total_rooms</th>\n",
       "      <th>total_bedrooms</th>\n",
       "      <th>population</th>\n",
       "      <th>households</th>\n",
       "      <th>median_income</th>\n",
       "      <th>median_house_value</th>\n",
       "    </tr>\n",
       "  </thead>\n",
       "  <tbody>\n",
       "    <tr>\n",
       "      <th>0</th>\n",
       "      <td>2072.0</td>\n",
       "      <td>-119.84</td>\n",
       "      <td>36.77</td>\n",
       "      <td>0</td>\n",
       "      <td>1</td>\n",
       "      <td>0</td>\n",
       "      <td>0</td>\n",
       "      <td>0</td>\n",
       "      <td>6.0</td>\n",
       "      <td>1853.0</td>\n",
       "      <td>473.0</td>\n",
       "      <td>1397.0</td>\n",
       "      <td>417.0</td>\n",
       "      <td>1.4817</td>\n",
       "      <td>72000.0</td>\n",
       "    </tr>\n",
       "    <tr>\n",
       "      <th>1</th>\n",
       "      <td>10600.0</td>\n",
       "      <td>-117.80</td>\n",
       "      <td>33.68</td>\n",
       "      <td>1</td>\n",
       "      <td>0</td>\n",
       "      <td>0</td>\n",
       "      <td>0</td>\n",
       "      <td>0</td>\n",
       "      <td>8.0</td>\n",
       "      <td>2032.0</td>\n",
       "      <td>349.0</td>\n",
       "      <td>862.0</td>\n",
       "      <td>340.0</td>\n",
       "      <td>6.9133</td>\n",
       "      <td>274100.0</td>\n",
       "    </tr>\n",
       "    <tr>\n",
       "      <th>2</th>\n",
       "      <td>2494.0</td>\n",
       "      <td>-120.19</td>\n",
       "      <td>36.60</td>\n",
       "      <td>0</td>\n",
       "      <td>1</td>\n",
       "      <td>0</td>\n",
       "      <td>0</td>\n",
       "      <td>0</td>\n",
       "      <td>25.0</td>\n",
       "      <td>875.0</td>\n",
       "      <td>214.0</td>\n",
       "      <td>931.0</td>\n",
       "      <td>214.0</td>\n",
       "      <td>1.5536</td>\n",
       "      <td>58300.0</td>\n",
       "    </tr>\n",
       "    <tr>\n",
       "      <th>3</th>\n",
       "      <td>4284.0</td>\n",
       "      <td>-118.32</td>\n",
       "      <td>34.10</td>\n",
       "      <td>1</td>\n",
       "      <td>0</td>\n",
       "      <td>0</td>\n",
       "      <td>0</td>\n",
       "      <td>0</td>\n",
       "      <td>31.0</td>\n",
       "      <td>622.0</td>\n",
       "      <td>229.0</td>\n",
       "      <td>597.0</td>\n",
       "      <td>227.0</td>\n",
       "      <td>1.5284</td>\n",
       "      <td>200000.0</td>\n",
       "    </tr>\n",
       "    <tr>\n",
       "      <th>4</th>\n",
       "      <td>16541.0</td>\n",
       "      <td>-121.23</td>\n",
       "      <td>37.79</td>\n",
       "      <td>0</td>\n",
       "      <td>1</td>\n",
       "      <td>0</td>\n",
       "      <td>0</td>\n",
       "      <td>0</td>\n",
       "      <td>21.0</td>\n",
       "      <td>1922.0</td>\n",
       "      <td>373.0</td>\n",
       "      <td>1130.0</td>\n",
       "      <td>372.0</td>\n",
       "      <td>4.0815</td>\n",
       "      <td>117900.0</td>\n",
       "    </tr>\n",
       "    <tr>\n",
       "      <th>...</th>\n",
       "      <td>...</td>\n",
       "      <td>...</td>\n",
       "      <td>...</td>\n",
       "      <td>...</td>\n",
       "      <td>...</td>\n",
       "      <td>...</td>\n",
       "      <td>...</td>\n",
       "      <td>...</td>\n",
       "      <td>...</td>\n",
       "      <td>...</td>\n",
       "      <td>...</td>\n",
       "      <td>...</td>\n",
       "      <td>...</td>\n",
       "      <td>...</td>\n",
       "      <td>...</td>\n",
       "    </tr>\n",
       "    <tr>\n",
       "      <th>16155</th>\n",
       "      <td>13895.0</td>\n",
       "      <td>-116.32</td>\n",
       "      <td>34.14</td>\n",
       "      <td>0</td>\n",
       "      <td>1</td>\n",
       "      <td>0</td>\n",
       "      <td>0</td>\n",
       "      <td>0</td>\n",
       "      <td>20.0</td>\n",
       "      <td>1465.0</td>\n",
       "      <td>278.0</td>\n",
       "      <td>745.0</td>\n",
       "      <td>250.0</td>\n",
       "      <td>3.0625</td>\n",
       "      <td>93800.0</td>\n",
       "    </tr>\n",
       "    <tr>\n",
       "      <th>16156</th>\n",
       "      <td>19814.0</td>\n",
       "      <td>-119.25</td>\n",
       "      <td>36.56</td>\n",
       "      <td>0</td>\n",
       "      <td>1</td>\n",
       "      <td>0</td>\n",
       "      <td>0</td>\n",
       "      <td>0</td>\n",
       "      <td>49.0</td>\n",
       "      <td>2365.0</td>\n",
       "      <td>504.0</td>\n",
       "      <td>1131.0</td>\n",
       "      <td>458.0</td>\n",
       "      <td>2.6133</td>\n",
       "      <td>103100.0</td>\n",
       "    </tr>\n",
       "    <tr>\n",
       "      <th>16157</th>\n",
       "      <td>17109.0</td>\n",
       "      <td>-122.21</td>\n",
       "      <td>37.46</td>\n",
       "      <td>0</td>\n",
       "      <td>0</td>\n",
       "      <td>0</td>\n",
       "      <td>0</td>\n",
       "      <td>1</td>\n",
       "      <td>19.0</td>\n",
       "      <td>2531.0</td>\n",
       "      <td>461.0</td>\n",
       "      <td>1206.0</td>\n",
       "      <td>429.0</td>\n",
       "      <td>4.4958</td>\n",
       "      <td>192600.0</td>\n",
       "    </tr>\n",
       "    <tr>\n",
       "      <th>16158</th>\n",
       "      <td>18063.0</td>\n",
       "      <td>-122.01</td>\n",
       "      <td>37.26</td>\n",
       "      <td>1</td>\n",
       "      <td>0</td>\n",
       "      <td>0</td>\n",
       "      <td>0</td>\n",
       "      <td>0</td>\n",
       "      <td>39.0</td>\n",
       "      <td>2776.0</td>\n",
       "      <td>840.0</td>\n",
       "      <td>2546.0</td>\n",
       "      <td>773.0</td>\n",
       "      <td>2.5750</td>\n",
       "      <td>153500.0</td>\n",
       "    </tr>\n",
       "    <tr>\n",
       "      <th>16159</th>\n",
       "      <td>10393.0</td>\n",
       "      <td>-117.65</td>\n",
       "      <td>33.59</td>\n",
       "      <td>1</td>\n",
       "      <td>0</td>\n",
       "      <td>0</td>\n",
       "      <td>0</td>\n",
       "      <td>0</td>\n",
       "      <td>31.0</td>\n",
       "      <td>2152.0</td>\n",
       "      <td>462.0</td>\n",
       "      <td>1259.0</td>\n",
       "      <td>420.0</td>\n",
       "      <td>2.2478</td>\n",
       "      <td>81100.0</td>\n",
       "    </tr>\n",
       "  </tbody>\n",
       "</table>\n",
       "<p>16160 rows × 15 columns</p>\n",
       "</div>"
      ],
      "text/plain": [
       "         index  longitude  latitude  _<1H OCEAN  _INLAND  _ISLAND  _NEAR BAY  \\\n",
       "0       2072.0    -119.84     36.77           0        1        0          0   \n",
       "1      10600.0    -117.80     33.68           1        0        0          0   \n",
       "2       2494.0    -120.19     36.60           0        1        0          0   \n",
       "3       4284.0    -118.32     34.10           1        0        0          0   \n",
       "4      16541.0    -121.23     37.79           0        1        0          0   \n",
       "...        ...        ...       ...         ...      ...      ...        ...   \n",
       "16155  13895.0    -116.32     34.14           0        1        0          0   \n",
       "16156  19814.0    -119.25     36.56           0        1        0          0   \n",
       "16157  17109.0    -122.21     37.46           0        0        0          0   \n",
       "16158  18063.0    -122.01     37.26           1        0        0          0   \n",
       "16159  10393.0    -117.65     33.59           1        0        0          0   \n",
       "\n",
       "       _NEAR OCEAN  housing_median_age  total_rooms  total_bedrooms  \\\n",
       "0                0                 6.0       1853.0           473.0   \n",
       "1                0                 8.0       2032.0           349.0   \n",
       "2                0                25.0        875.0           214.0   \n",
       "3                0                31.0        622.0           229.0   \n",
       "4                0                21.0       1922.0           373.0   \n",
       "...            ...                 ...          ...             ...   \n",
       "16155            0                20.0       1465.0           278.0   \n",
       "16156            0                49.0       2365.0           504.0   \n",
       "16157            1                19.0       2531.0           461.0   \n",
       "16158            0                39.0       2776.0           840.0   \n",
       "16159            0                31.0       2152.0           462.0   \n",
       "\n",
       "       population  households  median_income  median_house_value  \n",
       "0          1397.0       417.0         1.4817             72000.0  \n",
       "1           862.0       340.0         6.9133            274100.0  \n",
       "2           931.0       214.0         1.5536             58300.0  \n",
       "3           597.0       227.0         1.5284            200000.0  \n",
       "4          1130.0       372.0         4.0815            117900.0  \n",
       "...           ...         ...            ...                 ...  \n",
       "16155       745.0       250.0         3.0625             93800.0  \n",
       "16156      1131.0       458.0         2.6133            103100.0  \n",
       "16157      1206.0       429.0         4.4958            192600.0  \n",
       "16158      2546.0       773.0         2.5750            153500.0  \n",
       "16159      1259.0       420.0         2.2478             81100.0  \n",
       "\n",
       "[16160 rows x 15 columns]"
      ]
     },
     "execution_count": 86,
     "metadata": {},
     "output_type": "execute_result"
    }
   ],
   "source": [
    "df_clean"
   ]
  },
  {
   "cell_type": "markdown",
   "id": "9b194a11",
   "metadata": {},
   "source": [
    "# Bootstrapping "
   ]
  },
  {
   "cell_type": "code",
   "execution_count": 87,
   "id": "02c518ed",
   "metadata": {},
   "outputs": [
    {
     "name": "stderr",
     "output_type": "stream",
     "text": [
      "/home/selmane/.pyenv/versions/3.8.12/envs/simplon/lib/python3.8/site-packages/numpy/core/fromnumeric.py:3430: FutureWarning: In a future version, DataFrame.mean(axis=None) will return a scalar mean over the entire DataFrame. To retain the old behavior, use 'frame.mean(axis=0)' or just 'frame.mean()'\n",
      "  return mean(axis=axis, dtype=dtype, out=out, **kwargs)\n"
     ]
    },
    {
     "data": {
      "text/plain": [
       "index                  10286.338057\n",
       "longitude               -119.566478\n",
       "latitude                  35.630071\n",
       "_<1H OCEAN                 0.441151\n",
       "_INLAND                    0.318502\n",
       "_ISLAND                    0.000186\n",
       "_NEAR BAY                  0.110396\n",
       "_NEAR OCEAN                0.129765\n",
       "housing_median_age        28.611015\n",
       "total_rooms             2476.394802\n",
       "total_bedrooms           509.289171\n",
       "population              1352.346720\n",
       "households               473.597092\n",
       "median_income              3.764902\n",
       "median_house_value    205728.489913\n",
       "dtype: float64"
      ]
     },
     "execution_count": 87,
     "metadata": {},
     "output_type": "execute_result"
    }
   ],
   "source": [
    "np.mean(df_clean) # populaiton mean"
   ]
  },
  {
   "cell_type": "code",
   "execution_count": 88,
   "id": "9089ae20",
   "metadata": {},
   "outputs": [
    {
     "data": {
      "text/plain": [
       "index                   5939.349720\n",
       "longitude                  2.004698\n",
       "latitude                   2.139183\n",
       "_<1H OCEAN                 0.496525\n",
       "_INLAND                    0.465896\n",
       "_ISLAND                    0.013624\n",
       "_NEAR BAY                  0.313383\n",
       "_NEAR OCEAN                0.336045\n",
       "housing_median_age        12.606199\n",
       "total_rooms             1484.689885\n",
       "total_bedrooms           302.756917\n",
       "population               794.255812\n",
       "households               275.602469\n",
       "median_income              1.584774\n",
       "median_house_value    113550.514604\n",
       "dtype: float64"
      ]
     },
     "execution_count": 88,
     "metadata": {},
     "output_type": "execute_result"
    }
   ],
   "source": [
    "np.std(df_clean) # population std"
   ]
  },
  {
   "cell_type": "markdown",
   "id": "8595077e",
   "metadata": {},
   "source": [
    "## step 1 : take a random sample from the population "
   ]
  },
  {
   "cell_type": "code",
   "execution_count": 89,
   "id": "ff78d7f5",
   "metadata": {},
   "outputs": [],
   "source": [
    "df_sample =  df_clean.sample(n = 1000, random_state = 1)"
   ]
  },
  {
   "cell_type": "code",
   "execution_count": 90,
   "id": "e50d06b9",
   "metadata": {},
   "outputs": [
    {
     "data": {
      "text/plain": [
       "index                  10419.774000\n",
       "longitude               -119.525640\n",
       "latitude                  35.529660\n",
       "_<1H OCEAN                 0.459000\n",
       "_INLAND                    0.297000\n",
       "_ISLAND                    0.000000\n",
       "_NEAR BAY                  0.106000\n",
       "_NEAR OCEAN                0.138000\n",
       "housing_median_age        28.122000\n",
       "total_rooms             2473.149000\n",
       "total_bedrooms           503.751000\n",
       "population              1330.259000\n",
       "households               468.030000\n",
       "median_income              3.875906\n",
       "median_house_value    210655.900000\n",
       "dtype: float64"
      ]
     },
     "execution_count": 90,
     "metadata": {},
     "output_type": "execute_result"
    }
   ],
   "source": [
    "sample_mean = np.mean(df_sample)\n",
    "sample_mean"
   ]
  },
  {
   "cell_type": "code",
   "execution_count": 91,
   "id": "625411eb",
   "metadata": {},
   "outputs": [
    {
     "data": {
      "text/plain": [
       "index                   5997.650139\n",
       "longitude                  1.995156\n",
       "latitude                   2.052294\n",
       "_<1H OCEAN                 0.498316\n",
       "_INLAND                    0.456937\n",
       "_ISLAND                    0.000000\n",
       "_NEAR BAY                  0.307838\n",
       "_NEAR OCEAN                0.344900\n",
       "housing_median_age        12.371302\n",
       "total_rooms             1546.766813\n",
       "total_bedrooms           318.213556\n",
       "population               820.809626\n",
       "households               290.766857\n",
       "median_income              1.600852\n",
       "median_house_value    115086.932817\n",
       "dtype: float64"
      ]
     },
     "execution_count": 91,
     "metadata": {},
     "output_type": "execute_result"
    }
   ],
   "source": [
    "sample_std = np.std(df_sample)\n",
    "sample_std"
   ]
  },
  {
   "cell_type": "markdown",
   "id": "c63f9d04",
   "metadata": {},
   "source": [
    "## step 2 : bootstrap for 10,000 times "
   ]
  },
  {
   "cell_type": "code",
   "execution_count": 92,
   "id": "37c43c38",
   "metadata": {},
   "outputs": [],
   "source": [
    "boot_means = []\n",
    "\n",
    "for _ in range(10000):\n",
    "    boot_sample = df_sample.sample(n= 1000, random_state = 1)\n",
    "    boot_mean = np.mean(boot_sample)\n",
    "    boot_means.append(boot_mean)\n",
    "boot_means_np = np.array(boot_means)\n",
    "boot_means_df = boot_means"
   ]
  },
  {
   "cell_type": "code",
   "execution_count": 93,
   "id": "b7ae7b4b",
   "metadata": {},
   "outputs": [
    {
     "data": {
      "text/plain": [
       "array([[ 1.0419774e+04, -1.1952564e+02,  3.5529660e+01, ...,\n",
       "         4.6803000e+02,  3.8759061e+00,  2.1065590e+05],\n",
       "       [ 1.0419774e+04, -1.1952564e+02,  3.5529660e+01, ...,\n",
       "         4.6803000e+02,  3.8759061e+00,  2.1065590e+05],\n",
       "       [ 1.0419774e+04, -1.1952564e+02,  3.5529660e+01, ...,\n",
       "         4.6803000e+02,  3.8759061e+00,  2.1065590e+05],\n",
       "       ...,\n",
       "       [ 1.0419774e+04, -1.1952564e+02,  3.5529660e+01, ...,\n",
       "         4.6803000e+02,  3.8759061e+00,  2.1065590e+05],\n",
       "       [ 1.0419774e+04, -1.1952564e+02,  3.5529660e+01, ...,\n",
       "         4.6803000e+02,  3.8759061e+00,  2.1065590e+05],\n",
       "       [ 1.0419774e+04, -1.1952564e+02,  3.5529660e+01, ...,\n",
       "         4.6803000e+02,  3.8759061e+00,  2.1065590e+05]])"
      ]
     },
     "execution_count": 93,
     "metadata": {},
     "output_type": "execute_result"
    }
   ],
   "source": [
    "boot_means_np"
   ]
  },
  {
   "cell_type": "markdown",
   "id": "512bd2bd",
   "metadata": {},
   "source": [
    "## step 4 : analysis and interpretation"
   ]
  },
  {
   "cell_type": "code",
   "execution_count": 94,
   "id": "abf318c9",
   "metadata": {},
   "outputs": [],
   "source": [
    "boot_means = np.mean(boot_means_np)"
   ]
  },
  {
   "cell_type": "code",
   "execution_count": 95,
   "id": "c4bd927d",
   "metadata": {},
   "outputs": [
    {
     "data": {
      "text/plain": [
       "15053.324328406668"
      ]
     },
     "execution_count": 95,
     "metadata": {},
     "output_type": "execute_result"
    }
   ],
   "source": [
    "boot_means"
   ]
  },
  {
   "cell_type": "code",
   "execution_count": 96,
   "id": "b038906a",
   "metadata": {},
   "outputs": [
    {
     "data": {
      "text/plain": [
       "index                  10286.338057\n",
       "longitude               -119.566478\n",
       "latitude                  35.630071\n",
       "_<1H OCEAN                 0.441151\n",
       "_INLAND                    0.318502\n",
       "_ISLAND                    0.000186\n",
       "_NEAR BAY                  0.110396\n",
       "_NEAR OCEAN                0.129765\n",
       "housing_median_age        28.611015\n",
       "total_rooms             2476.394802\n",
       "total_bedrooms           509.289171\n",
       "population              1352.346720\n",
       "households               473.597092\n",
       "median_income              3.764902\n",
       "median_house_value    205728.489913\n",
       "dtype: float64"
      ]
     },
     "execution_count": 96,
     "metadata": {},
     "output_type": "execute_result"
    }
   ],
   "source": [
    "np.mean(df_clean)"
   ]
  },
  {
   "cell_type": "code",
   "execution_count": 97,
   "id": "bc6adb37",
   "metadata": {},
   "outputs": [
    {
     "data": {
      "text/plain": [
       "52341.0715226238"
      ]
     },
     "execution_count": 97,
     "metadata": {},
     "output_type": "execute_result"
    }
   ],
   "source": [
    "boot_std = np.std(boot_means_np)\n",
    "boot_std"
   ]
  },
  {
   "cell_type": "code",
   "execution_count": 98,
   "id": "1cc70896",
   "metadata": {},
   "outputs": [
    {
     "data": {
      "text/plain": [
       "index                   5939.349720\n",
       "longitude                  2.004698\n",
       "latitude                   2.139183\n",
       "_<1H OCEAN                 0.496525\n",
       "_INLAND                    0.465896\n",
       "_ISLAND                    0.013624\n",
       "_NEAR BAY                  0.313383\n",
       "_NEAR OCEAN                0.336045\n",
       "housing_median_age        12.606199\n",
       "total_rooms             1484.689885\n",
       "total_bedrooms           302.756917\n",
       "population               794.255812\n",
       "households               275.602469\n",
       "median_income              1.584774\n",
       "median_house_value    113550.514604\n",
       "dtype: float64"
      ]
     },
     "execution_count": 98,
     "metadata": {},
     "output_type": "execute_result"
    }
   ],
   "source": [
    "np.std(df_clean)"
   ]
  },
  {
   "cell_type": "code",
   "execution_count": 99,
   "id": "bbcb2154",
   "metadata": {},
   "outputs": [
    {
     "data": {
      "text/plain": [
       "array([-1.1952564e+02,  2.1065590e+05])"
      ]
     },
     "execution_count": 99,
     "metadata": {},
     "output_type": "execute_result"
    }
   ],
   "source": [
    "np.percentile(boot_means_np, [2.5,97.5])# 95% C.I."
   ]
  },
  {
   "cell_type": "markdown",
   "id": "57cd70bf",
   "metadata": {},
   "source": [
    "## Step 5 : Distribution and C.I in Graph"
   ]
  },
  {
   "cell_type": "code",
   "execution_count": 100,
   "id": "7a80988d",
   "metadata": {},
   "outputs": [
    {
     "data": {
      "text/plain": [
       "<matplotlib.lines.Line2D at 0x7f96a66a3e50>"
      ]
     },
     "execution_count": 100,
     "metadata": {},
     "output_type": "execute_result"
    },
    {
     "data": {
      "image/png": "[encoded data removed]",
      "text/plain": [
       "<Figure size 640x480 with 1 Axes>"
      ]
     },
     "metadata": {},
     "output_type": "display_data"
    }
   ],
   "source": [
    "plt.hist(boot_means_np, alpha = 1)\n",
    "plt.axvline(np.percentile(boot_means_np, 2.5), color = 'red', linewidth = 2)\n",
    "plt.axvline(np.percentile(boot_means_np, 97.5), color = 'red', linewidth = 2)"
   ]
  },
  {
   "cell_type": "markdown",
   "id": "820a69de",
   "metadata": {},
   "source": [
    "# Correlation entre 2 variables quantitatives"
   ]
  },
  {
   "cell_type": "code",
   "execution_count": null,
   "id": "1a61240a",
   "metadata": {},
   "outputs": [],
   "source": []
  }
 ],
 "metadata": {
  "kernelspec": {
   "display_name": "Python 3 (ipykernel)",
   "language": "python",
   "name": "python3"
  },
  "language_info": {
   "codemirror_mode": {
    "name": "ipython",
    "version": 3
   },
   "file_extension": ".py",
   "mimetype": "text/x-python",
   "name": "python",
   "nbconvert_exporter": "python",
   "pygments_lexer": "ipython3",
   "version": "3.8.12"
  },
  "toc": {
   "base_numbering": 1,
   "nav_menu": {},
   "number_sections": true,
   "sideBar": true,
   "skip_h1_title": false,
   "title_cell": "Table of Contents",
   "title_sidebar": "Contents",
   "toc_cell": false,
   "toc_position": {},
   "toc_section_display": true,
   "toc_window_display": false
  }
 },
 "nbformat": 4,
 "nbformat_minor": 5
}
